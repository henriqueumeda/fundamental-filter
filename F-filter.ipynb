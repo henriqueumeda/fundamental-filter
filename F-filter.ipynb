{
 "cells": [
  {
   "cell_type": "code",
   "execution_count": 1,
   "metadata": {},
   "outputs": [],
   "source": [
    "import pandas as pd\n",
    "import numpy as np\n",
    "import yfinance as yf\n",
    "import cufflinks as cf"
   ]
  },
  {
   "cell_type": "code",
   "execution_count": 2,
   "metadata": {},
   "outputs": [
    {
     "data": {
      "text/html": [
       "        <script type=\"text/javascript\">\n",
       "        window.PlotlyConfig = {MathJaxConfig: 'local'};\n",
       "        if (window.MathJax) {MathJax.Hub.Config({SVG: {font: \"STIX-Web\"}});}\n",
       "        if (typeof require !== 'undefined') {\n",
       "        require.undef(\"plotly\");\n",
       "        requirejs.config({\n",
       "            paths: {\n",
       "                'plotly': ['https://cdn.plot.ly/plotly-latest.min']\n",
       "            }\n",
       "        });\n",
       "        require(['plotly'], function(Plotly) {\n",
       "            window._Plotly = Plotly;\n",
       "        });\n",
       "        }\n",
       "        </script>\n",
       "        "
      ]
     },
     "metadata": {},
     "output_type": "display_data"
    }
   ],
   "source": [
    "cf.go_offline()"
   ]
  },
  {
   "cell_type": "code",
   "execution_count": 19,
   "metadata": {},
   "outputs": [],
   "source": [
    "tickerSymbol = 'MDIA3.SA'\n",
    "tickerData = yf.Ticker(tickerSymbol)"
   ]
  },
  {
   "cell_type": "code",
   "execution_count": 20,
   "metadata": {},
   "outputs": [
    {
     "data": {
      "text/html": [
       "<div>\n",
       "<style scoped>\n",
       "    .dataframe tbody tr th:only-of-type {\n",
       "        vertical-align: middle;\n",
       "    }\n",
       "\n",
       "    .dataframe tbody tr th {\n",
       "        vertical-align: top;\n",
       "    }\n",
       "\n",
       "    .dataframe thead th {\n",
       "        text-align: right;\n",
       "    }\n",
       "</style>\n",
       "<table border=\"1\" class=\"dataframe\">\n",
       "  <thead>\n",
       "    <tr style=\"text-align: right;\">\n",
       "      <th></th>\n",
       "      <th>Research Development</th>\n",
       "      <th>Effect Of Accounting Charges</th>\n",
       "      <th>Income Before Tax</th>\n",
       "      <th>Minority Interest</th>\n",
       "      <th>Net Income</th>\n",
       "      <th>Selling General Administrative</th>\n",
       "      <th>Gross Profit</th>\n",
       "      <th>Ebit</th>\n",
       "      <th>Operating Income</th>\n",
       "      <th>Other Operating Expenses</th>\n",
       "      <th>...</th>\n",
       "      <th>Non Recurring</th>\n",
       "      <th>Other Items</th>\n",
       "      <th>Income Tax Expense</th>\n",
       "      <th>Total Revenue</th>\n",
       "      <th>Total Operating Expenses</th>\n",
       "      <th>Cost Of Revenue</th>\n",
       "      <th>Total Other Income Expense Net</th>\n",
       "      <th>Discontinued Operations</th>\n",
       "      <th>Net Income From Continuing Ops</th>\n",
       "      <th>Net Income Applicable To Common Shares</th>\n",
       "    </tr>\n",
       "    <tr>\n",
       "      <th></th>\n",
       "      <th></th>\n",
       "      <th></th>\n",
       "      <th></th>\n",
       "      <th></th>\n",
       "      <th></th>\n",
       "      <th></th>\n",
       "      <th></th>\n",
       "      <th></th>\n",
       "      <th></th>\n",
       "      <th></th>\n",
       "      <th></th>\n",
       "      <th></th>\n",
       "      <th></th>\n",
       "      <th></th>\n",
       "      <th></th>\n",
       "      <th></th>\n",
       "      <th></th>\n",
       "      <th></th>\n",
       "      <th></th>\n",
       "      <th></th>\n",
       "      <th></th>\n",
       "    </tr>\n",
       "  </thead>\n",
       "  <tbody>\n",
       "    <tr>\n",
       "      <th>2021-03-31</th>\n",
       "      <td>None</td>\n",
       "      <td>None</td>\n",
       "      <td>-1.2918e+07</td>\n",
       "      <td>None</td>\n",
       "      <td>1.5017e+07</td>\n",
       "      <td>3.83791e+08</td>\n",
       "      <td>3.20899e+08</td>\n",
       "      <td>-1.6627e+07</td>\n",
       "      <td>-1.6627e+07</td>\n",
       "      <td>-6.9188e+07</td>\n",
       "      <td>...</td>\n",
       "      <td>None</td>\n",
       "      <td>None</td>\n",
       "      <td>-2.7935e+07</td>\n",
       "      <td>1.49108e+09</td>\n",
       "      <td>1.5077e+09</td>\n",
       "      <td>1.17018e+09</td>\n",
       "      <td>3.709e+06</td>\n",
       "      <td>None</td>\n",
       "      <td>1.5017e+07</td>\n",
       "      <td>1.5017e+07</td>\n",
       "    </tr>\n",
       "    <tr>\n",
       "      <th>2020-12-31</th>\n",
       "      <td>None</td>\n",
       "      <td>None</td>\n",
       "      <td>1.81368e+08</td>\n",
       "      <td>None</td>\n",
       "      <td>2.09067e+08</td>\n",
       "      <td>5.3715e+08</td>\n",
       "      <td>3.64406e+08</td>\n",
       "      <td>1.07594e+08</td>\n",
       "      <td>1.07594e+08</td>\n",
       "      <td>-2.22297e+08</td>\n",
       "      <td>...</td>\n",
       "      <td>None</td>\n",
       "      <td>None</td>\n",
       "      <td>-2.7699e+07</td>\n",
       "      <td>1.70168e+09</td>\n",
       "      <td>1.59409e+09</td>\n",
       "      <td>1.33728e+09</td>\n",
       "      <td>7.3774e+07</td>\n",
       "      <td>None</td>\n",
       "      <td>2.09067e+08</td>\n",
       "      <td>2.09067e+08</td>\n",
       "    </tr>\n",
       "    <tr>\n",
       "      <th>2020-09-30</th>\n",
       "      <td>None</td>\n",
       "      <td>None</td>\n",
       "      <td>2.91769e+08</td>\n",
       "      <td>None</td>\n",
       "      <td>2.65381e+08</td>\n",
       "      <td>4.676e+08</td>\n",
       "      <td>5.40425e+08</td>\n",
       "      <td>2.80052e+08</td>\n",
       "      <td>2.80052e+08</td>\n",
       "      <td>-2.29484e+08</td>\n",
       "      <td>...</td>\n",
       "      <td>None</td>\n",
       "      <td>None</td>\n",
       "      <td>2.6388e+07</td>\n",
       "      <td>2.02895e+09</td>\n",
       "      <td>1.7489e+09</td>\n",
       "      <td>1.48852e+09</td>\n",
       "      <td>1.1717e+07</td>\n",
       "      <td>None</td>\n",
       "      <td>2.65381e+08</td>\n",
       "      <td>2.65381e+08</td>\n",
       "    </tr>\n",
       "    <tr>\n",
       "      <th>2020-06-30</th>\n",
       "      <td>None</td>\n",
       "      <td>None</td>\n",
       "      <td>1.59721e+08</td>\n",
       "      <td>None</td>\n",
       "      <td>1.52396e+08</td>\n",
       "      <td>4.42361e+08</td>\n",
       "      <td>5.27778e+08</td>\n",
       "      <td>1.81004e+08</td>\n",
       "      <td>1.81004e+08</td>\n",
       "      <td>-1.13245e+08</td>\n",
       "      <td>...</td>\n",
       "      <td>None</td>\n",
       "      <td>None</td>\n",
       "      <td>7.325e+06</td>\n",
       "      <td>1.88515e+09</td>\n",
       "      <td>1.70414e+09</td>\n",
       "      <td>1.35737e+09</td>\n",
       "      <td>-2.1283e+07</td>\n",
       "      <td>None</td>\n",
       "      <td>1.52396e+08</td>\n",
       "      <td>1.52396e+08</td>\n",
       "    </tr>\n",
       "  </tbody>\n",
       "</table>\n",
       "<p>4 rows × 22 columns</p>\n",
       "</div>"
      ],
      "text/plain": [
       "           Research Development Effect Of Accounting Charges  \\\n",
       "                                                               \n",
       "2021-03-31                 None                         None   \n",
       "2020-12-31                 None                         None   \n",
       "2020-09-30                 None                         None   \n",
       "2020-06-30                 None                         None   \n",
       "\n",
       "           Income Before Tax Minority Interest   Net Income  \\\n",
       "                                                              \n",
       "2021-03-31       -1.2918e+07              None   1.5017e+07   \n",
       "2020-12-31       1.81368e+08              None  2.09067e+08   \n",
       "2020-09-30       2.91769e+08              None  2.65381e+08   \n",
       "2020-06-30       1.59721e+08              None  1.52396e+08   \n",
       "\n",
       "           Selling General Administrative Gross Profit         Ebit  \\\n",
       "                                                                      \n",
       "2021-03-31                    3.83791e+08  3.20899e+08  -1.6627e+07   \n",
       "2020-12-31                     5.3715e+08  3.64406e+08  1.07594e+08   \n",
       "2020-09-30                      4.676e+08  5.40425e+08  2.80052e+08   \n",
       "2020-06-30                    4.42361e+08  5.27778e+08  1.81004e+08   \n",
       "\n",
       "           Operating Income Other Operating Expenses  ... Non Recurring  \\\n",
       "                                                      ...                 \n",
       "2021-03-31      -1.6627e+07              -6.9188e+07  ...          None   \n",
       "2020-12-31      1.07594e+08             -2.22297e+08  ...          None   \n",
       "2020-09-30      2.80052e+08             -2.29484e+08  ...          None   \n",
       "2020-06-30      1.81004e+08             -1.13245e+08  ...          None   \n",
       "\n",
       "           Other Items Income Tax Expense Total Revenue  \\\n",
       "                                                          \n",
       "2021-03-31        None        -2.7935e+07   1.49108e+09   \n",
       "2020-12-31        None        -2.7699e+07   1.70168e+09   \n",
       "2020-09-30        None         2.6388e+07   2.02895e+09   \n",
       "2020-06-30        None          7.325e+06   1.88515e+09   \n",
       "\n",
       "           Total Operating Expenses Cost Of Revenue  \\\n",
       "                                                      \n",
       "2021-03-31               1.5077e+09     1.17018e+09   \n",
       "2020-12-31              1.59409e+09     1.33728e+09   \n",
       "2020-09-30               1.7489e+09     1.48852e+09   \n",
       "2020-06-30              1.70414e+09     1.35737e+09   \n",
       "\n",
       "           Total Other Income Expense Net Discontinued Operations  \\\n",
       "                                                                    \n",
       "2021-03-31                      3.709e+06                    None   \n",
       "2020-12-31                     7.3774e+07                    None   \n",
       "2020-09-30                     1.1717e+07                    None   \n",
       "2020-06-30                    -2.1283e+07                    None   \n",
       "\n",
       "           Net Income From Continuing Ops  \\\n",
       "                                            \n",
       "2021-03-31                     1.5017e+07   \n",
       "2020-12-31                    2.09067e+08   \n",
       "2020-09-30                    2.65381e+08   \n",
       "2020-06-30                    1.52396e+08   \n",
       "\n",
       "           Net Income Applicable To Common Shares  \n",
       "                                                   \n",
       "2021-03-31                             1.5017e+07  \n",
       "2020-12-31                            2.09067e+08  \n",
       "2020-09-30                            2.65381e+08  \n",
       "2020-06-30                            1.52396e+08  \n",
       "\n",
       "[4 rows x 22 columns]"
      ]
     },
     "execution_count": 20,
     "metadata": {},
     "output_type": "execute_result"
    }
   ],
   "source": [
    "tickerQuarterlyFinancials = tickerData.quarterly_financials\n",
    "tickerQuarterlyFinancials.T"
   ]
  },
  {
   "cell_type": "code",
   "execution_count": 21,
   "metadata": {},
   "outputs": [
    {
     "data": {
      "text/plain": [
       "Int64Index([2020, 2019, 2018, 2017], dtype='int64', name='')"
      ]
     },
     "execution_count": 21,
     "metadata": {},
     "output_type": "execute_result"
    }
   ],
   "source": [
    "tickerFinancials = tickerData.financials\n",
    "tickerFinancials = tickerFinancials.T\n",
    "tickerFinancials.index.year"
   ]
  },
  {
   "cell_type": "code",
   "execution_count": 22,
   "metadata": {},
   "outputs": [],
   "source": [
    "currencies = {'BRL': 'R$ ', 'USD': '$ ', 'EUR': '€ '}"
   ]
  },
  {
   "cell_type": "code",
   "execution_count": 23,
   "metadata": {},
   "outputs": [
    {
     "data": {
      "application/vnd.plotly.v1+json": {
       "config": {
        "linkText": "Export to plot.ly",
        "plotlyServerURL": "https://plot.ly",
        "showLink": false
       },
       "data": [
        {
         "marker": {
          "color": "#37A5FF"
         },
         "name": "Revenue",
         "type": "bar",
         "x": [
          2020,
          2019,
          2018,
          2017
         ],
         "y": [
          7252524000,
          6103608000,
          6025054000,
          5415422000
         ]
        },
        {
         "marker": {
          "color": "#FF7300"
         },
         "name": "Gross Profit",
         "type": "bar",
         "x": [
          2020,
          2019,
          2018,
          2017
         ],
         "y": [
          1968037000,
          1831279000,
          1995512000,
          2035585000
         ]
        },
        {
         "marker": {
          "color": "#919191"
         },
         "name": "EBIT",
         "type": "bar",
         "x": [
          2020,
          2019,
          2018,
          2017
         ],
         "y": [
          767339000,
          628448000,
          786721000,
          839271000
         ]
        },
        {
         "marker": {
          "color": "#FFE10D"
         },
         "name": "Net Income",
         "type": "bar",
         "x": [
          2020,
          2019,
          2018,
          2017
         ],
         "y": [
          763844000,
          556884000,
          723497000,
          844183000
         ]
        }
       ],
       "layout": {
        "font": {
         "color": "white"
        },
        "legend": {
         "bgcolor": "#3F3C3C",
         "borderwidth": 0,
         "font": {
          "color": "white"
         },
         "orientation": "h",
         "x": 0.5,
         "xanchor": "center",
         "y": -0.15,
         "yanchor": "bottom"
        },
        "paper_bgcolor": "#3F3C3C",
        "plot_bgcolor": "#3F3C3C",
        "template": {
         "data": {
          "bar": [
           {
            "error_x": {
             "color": "#2a3f5f"
            },
            "error_y": {
             "color": "#2a3f5f"
            },
            "marker": {
             "line": {
              "color": "#E5ECF6",
              "width": 0.5
             }
            },
            "type": "bar"
           }
          ],
          "barpolar": [
           {
            "marker": {
             "line": {
              "color": "#E5ECF6",
              "width": 0.5
             }
            },
            "type": "barpolar"
           }
          ],
          "carpet": [
           {
            "aaxis": {
             "endlinecolor": "#2a3f5f",
             "gridcolor": "white",
             "linecolor": "white",
             "minorgridcolor": "white",
             "startlinecolor": "#2a3f5f"
            },
            "baxis": {
             "endlinecolor": "#2a3f5f",
             "gridcolor": "white",
             "linecolor": "white",
             "minorgridcolor": "white",
             "startlinecolor": "#2a3f5f"
            },
            "type": "carpet"
           }
          ],
          "choropleth": [
           {
            "colorbar": {
             "outlinewidth": 0,
             "ticks": ""
            },
            "type": "choropleth"
           }
          ],
          "contour": [
           {
            "colorbar": {
             "outlinewidth": 0,
             "ticks": ""
            },
            "colorscale": [
             [
              0,
              "#0d0887"
             ],
             [
              0.1111111111111111,
              "#46039f"
             ],
             [
              0.2222222222222222,
              "#7201a8"
             ],
             [
              0.3333333333333333,
              "#9c179e"
             ],
             [
              0.4444444444444444,
              "#bd3786"
             ],
             [
              0.5555555555555556,
              "#d8576b"
             ],
             [
              0.6666666666666666,
              "#ed7953"
             ],
             [
              0.7777777777777778,
              "#fb9f3a"
             ],
             [
              0.8888888888888888,
              "#fdca26"
             ],
             [
              1,
              "#f0f921"
             ]
            ],
            "type": "contour"
           }
          ],
          "contourcarpet": [
           {
            "colorbar": {
             "outlinewidth": 0,
             "ticks": ""
            },
            "type": "contourcarpet"
           }
          ],
          "heatmap": [
           {
            "colorbar": {
             "outlinewidth": 0,
             "ticks": ""
            },
            "colorscale": [
             [
              0,
              "#0d0887"
             ],
             [
              0.1111111111111111,
              "#46039f"
             ],
             [
              0.2222222222222222,
              "#7201a8"
             ],
             [
              0.3333333333333333,
              "#9c179e"
             ],
             [
              0.4444444444444444,
              "#bd3786"
             ],
             [
              0.5555555555555556,
              "#d8576b"
             ],
             [
              0.6666666666666666,
              "#ed7953"
             ],
             [
              0.7777777777777778,
              "#fb9f3a"
             ],
             [
              0.8888888888888888,
              "#fdca26"
             ],
             [
              1,
              "#f0f921"
             ]
            ],
            "type": "heatmap"
           }
          ],
          "heatmapgl": [
           {
            "colorbar": {
             "outlinewidth": 0,
             "ticks": ""
            },
            "colorscale": [
             [
              0,
              "#0d0887"
             ],
             [
              0.1111111111111111,
              "#46039f"
             ],
             [
              0.2222222222222222,
              "#7201a8"
             ],
             [
              0.3333333333333333,
              "#9c179e"
             ],
             [
              0.4444444444444444,
              "#bd3786"
             ],
             [
              0.5555555555555556,
              "#d8576b"
             ],
             [
              0.6666666666666666,
              "#ed7953"
             ],
             [
              0.7777777777777778,
              "#fb9f3a"
             ],
             [
              0.8888888888888888,
              "#fdca26"
             ],
             [
              1,
              "#f0f921"
             ]
            ],
            "type": "heatmapgl"
           }
          ],
          "histogram": [
           {
            "marker": {
             "colorbar": {
              "outlinewidth": 0,
              "ticks": ""
             }
            },
            "type": "histogram"
           }
          ],
          "histogram2d": [
           {
            "colorbar": {
             "outlinewidth": 0,
             "ticks": ""
            },
            "colorscale": [
             [
              0,
              "#0d0887"
             ],
             [
              0.1111111111111111,
              "#46039f"
             ],
             [
              0.2222222222222222,
              "#7201a8"
             ],
             [
              0.3333333333333333,
              "#9c179e"
             ],
             [
              0.4444444444444444,
              "#bd3786"
             ],
             [
              0.5555555555555556,
              "#d8576b"
             ],
             [
              0.6666666666666666,
              "#ed7953"
             ],
             [
              0.7777777777777778,
              "#fb9f3a"
             ],
             [
              0.8888888888888888,
              "#fdca26"
             ],
             [
              1,
              "#f0f921"
             ]
            ],
            "type": "histogram2d"
           }
          ],
          "histogram2dcontour": [
           {
            "colorbar": {
             "outlinewidth": 0,
             "ticks": ""
            },
            "colorscale": [
             [
              0,
              "#0d0887"
             ],
             [
              0.1111111111111111,
              "#46039f"
             ],
             [
              0.2222222222222222,
              "#7201a8"
             ],
             [
              0.3333333333333333,
              "#9c179e"
             ],
             [
              0.4444444444444444,
              "#bd3786"
             ],
             [
              0.5555555555555556,
              "#d8576b"
             ],
             [
              0.6666666666666666,
              "#ed7953"
             ],
             [
              0.7777777777777778,
              "#fb9f3a"
             ],
             [
              0.8888888888888888,
              "#fdca26"
             ],
             [
              1,
              "#f0f921"
             ]
            ],
            "type": "histogram2dcontour"
           }
          ],
          "mesh3d": [
           {
            "colorbar": {
             "outlinewidth": 0,
             "ticks": ""
            },
            "type": "mesh3d"
           }
          ],
          "parcoords": [
           {
            "line": {
             "colorbar": {
              "outlinewidth": 0,
              "ticks": ""
             }
            },
            "type": "parcoords"
           }
          ],
          "pie": [
           {
            "automargin": true,
            "type": "pie"
           }
          ],
          "scatter": [
           {
            "marker": {
             "colorbar": {
              "outlinewidth": 0,
              "ticks": ""
             }
            },
            "type": "scatter"
           }
          ],
          "scatter3d": [
           {
            "line": {
             "colorbar": {
              "outlinewidth": 0,
              "ticks": ""
             }
            },
            "marker": {
             "colorbar": {
              "outlinewidth": 0,
              "ticks": ""
             }
            },
            "type": "scatter3d"
           }
          ],
          "scattercarpet": [
           {
            "marker": {
             "colorbar": {
              "outlinewidth": 0,
              "ticks": ""
             }
            },
            "type": "scattercarpet"
           }
          ],
          "scattergeo": [
           {
            "marker": {
             "colorbar": {
              "outlinewidth": 0,
              "ticks": ""
             }
            },
            "type": "scattergeo"
           }
          ],
          "scattergl": [
           {
            "marker": {
             "colorbar": {
              "outlinewidth": 0,
              "ticks": ""
             }
            },
            "type": "scattergl"
           }
          ],
          "scattermapbox": [
           {
            "marker": {
             "colorbar": {
              "outlinewidth": 0,
              "ticks": ""
             }
            },
            "type": "scattermapbox"
           }
          ],
          "scatterpolar": [
           {
            "marker": {
             "colorbar": {
              "outlinewidth": 0,
              "ticks": ""
             }
            },
            "type": "scatterpolar"
           }
          ],
          "scatterpolargl": [
           {
            "marker": {
             "colorbar": {
              "outlinewidth": 0,
              "ticks": ""
             }
            },
            "type": "scatterpolargl"
           }
          ],
          "scatterternary": [
           {
            "marker": {
             "colorbar": {
              "outlinewidth": 0,
              "ticks": ""
             }
            },
            "type": "scatterternary"
           }
          ],
          "surface": [
           {
            "colorbar": {
             "outlinewidth": 0,
             "ticks": ""
            },
            "colorscale": [
             [
              0,
              "#0d0887"
             ],
             [
              0.1111111111111111,
              "#46039f"
             ],
             [
              0.2222222222222222,
              "#7201a8"
             ],
             [
              0.3333333333333333,
              "#9c179e"
             ],
             [
              0.4444444444444444,
              "#bd3786"
             ],
             [
              0.5555555555555556,
              "#d8576b"
             ],
             [
              0.6666666666666666,
              "#ed7953"
             ],
             [
              0.7777777777777778,
              "#fb9f3a"
             ],
             [
              0.8888888888888888,
              "#fdca26"
             ],
             [
              1,
              "#f0f921"
             ]
            ],
            "type": "surface"
           }
          ],
          "table": [
           {
            "cells": {
             "fill": {
              "color": "#EBF0F8"
             },
             "line": {
              "color": "white"
             }
            },
            "header": {
             "fill": {
              "color": "#C8D4E3"
             },
             "line": {
              "color": "white"
             }
            },
            "type": "table"
           }
          ]
         },
         "layout": {
          "annotationdefaults": {
           "arrowcolor": "#2a3f5f",
           "arrowhead": 0,
           "arrowwidth": 1
          },
          "autotypenumbers": "strict",
          "coloraxis": {
           "colorbar": {
            "outlinewidth": 0,
            "ticks": ""
           }
          },
          "colorscale": {
           "diverging": [
            [
             0,
             "#8e0152"
            ],
            [
             0.1,
             "#c51b7d"
            ],
            [
             0.2,
             "#de77ae"
            ],
            [
             0.3,
             "#f1b6da"
            ],
            [
             0.4,
             "#fde0ef"
            ],
            [
             0.5,
             "#f7f7f7"
            ],
            [
             0.6,
             "#e6f5d0"
            ],
            [
             0.7,
             "#b8e186"
            ],
            [
             0.8,
             "#7fbc41"
            ],
            [
             0.9,
             "#4d9221"
            ],
            [
             1,
             "#276419"
            ]
           ],
           "sequential": [
            [
             0,
             "#0d0887"
            ],
            [
             0.1111111111111111,
             "#46039f"
            ],
            [
             0.2222222222222222,
             "#7201a8"
            ],
            [
             0.3333333333333333,
             "#9c179e"
            ],
            [
             0.4444444444444444,
             "#bd3786"
            ],
            [
             0.5555555555555556,
             "#d8576b"
            ],
            [
             0.6666666666666666,
             "#ed7953"
            ],
            [
             0.7777777777777778,
             "#fb9f3a"
            ],
            [
             0.8888888888888888,
             "#fdca26"
            ],
            [
             1,
             "#f0f921"
            ]
           ],
           "sequentialminus": [
            [
             0,
             "#0d0887"
            ],
            [
             0.1111111111111111,
             "#46039f"
            ],
            [
             0.2222222222222222,
             "#7201a8"
            ],
            [
             0.3333333333333333,
             "#9c179e"
            ],
            [
             0.4444444444444444,
             "#bd3786"
            ],
            [
             0.5555555555555556,
             "#d8576b"
            ],
            [
             0.6666666666666666,
             "#ed7953"
            ],
            [
             0.7777777777777778,
             "#fb9f3a"
            ],
            [
             0.8888888888888888,
             "#fdca26"
            ],
            [
             1,
             "#f0f921"
            ]
           ]
          },
          "colorway": [
           "#636efa",
           "#EF553B",
           "#00cc96",
           "#ab63fa",
           "#FFA15A",
           "#19d3f3",
           "#FF6692",
           "#B6E880",
           "#FF97FF",
           "#FECB52"
          ],
          "font": {
           "color": "#2a3f5f"
          },
          "geo": {
           "bgcolor": "white",
           "lakecolor": "white",
           "landcolor": "#E5ECF6",
           "showlakes": true,
           "showland": true,
           "subunitcolor": "white"
          },
          "hoverlabel": {
           "align": "left"
          },
          "hovermode": "closest",
          "mapbox": {
           "style": "light"
          },
          "paper_bgcolor": "white",
          "plot_bgcolor": "#E5ECF6",
          "polar": {
           "angularaxis": {
            "gridcolor": "white",
            "linecolor": "white",
            "ticks": ""
           },
           "bgcolor": "#E5ECF6",
           "radialaxis": {
            "gridcolor": "white",
            "linecolor": "white",
            "ticks": ""
           }
          },
          "scene": {
           "xaxis": {
            "backgroundcolor": "#E5ECF6",
            "gridcolor": "white",
            "gridwidth": 2,
            "linecolor": "white",
            "showbackground": true,
            "ticks": "",
            "zerolinecolor": "white"
           },
           "yaxis": {
            "backgroundcolor": "#E5ECF6",
            "gridcolor": "white",
            "gridwidth": 2,
            "linecolor": "white",
            "showbackground": true,
            "ticks": "",
            "zerolinecolor": "white"
           },
           "zaxis": {
            "backgroundcolor": "#E5ECF6",
            "gridcolor": "white",
            "gridwidth": 2,
            "linecolor": "white",
            "showbackground": true,
            "ticks": "",
            "zerolinecolor": "white"
           }
          },
          "shapedefaults": {
           "line": {
            "color": "#2a3f5f"
           }
          },
          "ternary": {
           "aaxis": {
            "gridcolor": "white",
            "linecolor": "white",
            "ticks": ""
           },
           "baxis": {
            "gridcolor": "white",
            "linecolor": "white",
            "ticks": ""
           },
           "bgcolor": "#E5ECF6",
           "caxis": {
            "gridcolor": "white",
            "linecolor": "white",
            "ticks": ""
           }
          },
          "title": {
           "x": 0.05
          },
          "xaxis": {
           "automargin": true,
           "gridcolor": "white",
           "linecolor": "white",
           "ticks": "",
           "title": {
            "standoff": 15
           },
           "zerolinecolor": "white",
           "zerolinewidth": 2
          },
          "yaxis": {
           "automargin": true,
           "gridcolor": "white",
           "linecolor": "white",
           "ticks": "",
           "title": {
            "standoff": 15
           },
           "zerolinecolor": "white",
           "zerolinewidth": 2
          }
         }
        },
        "title": {
         "font": {
          "color": "white",
          "size": 20
         },
         "text": "Yearly Reports",
         "x": 0.5,
         "xanchor": "center",
         "y": 0.9,
         "yanchor": "top"
        },
        "yaxis": {
         "gridcolor": "rgba(233,233,233,0.1)",
         "gridwidth": 2,
         "showgrid": true,
         "tickformat": ",.",
         "tickprefix": "R$ "
        }
       }
      },
      "text/html": [
       "<div>                            <div id=\"5125e4d7-6803-4693-9878-afd9754b79d8\" class=\"plotly-graph-div\" style=\"height:525px; width:100%;\"></div>            <script type=\"text/javascript\">                require([\"plotly\"], function(Plotly) {                    window.PLOTLYENV=window.PLOTLYENV || {};                                    if (document.getElementById(\"5125e4d7-6803-4693-9878-afd9754b79d8\")) {                    Plotly.newPlot(                        \"5125e4d7-6803-4693-9878-afd9754b79d8\",                        [{\"marker\": {\"color\": \"#37A5FF\"}, \"name\": \"Revenue\", \"type\": \"bar\", \"x\": [2020, 2019, 2018, 2017], \"y\": [7252524000.0, 6103608000.0, 6025054000.0, 5415422000.0]}, {\"marker\": {\"color\": \"#FF7300\"}, \"name\": \"Gross Profit\", \"type\": \"bar\", \"x\": [2020, 2019, 2018, 2017], \"y\": [1968037000.0, 1831279000.0, 1995512000.0, 2035585000.0]}, {\"marker\": {\"color\": \"#919191\"}, \"name\": \"EBIT\", \"type\": \"bar\", \"x\": [2020, 2019, 2018, 2017], \"y\": [767339000.0, 628448000.0, 786721000.0, 839271000.0]}, {\"marker\": {\"color\": \"#FFE10D\"}, \"name\": \"Net Income\", \"type\": \"bar\", \"x\": [2020, 2019, 2018, 2017], \"y\": [763844000.0, 556884000.0, 723497000.0, 844183000.0]}],                        {\"font\": {\"color\": \"white\"}, \"legend\": {\"bgcolor\": \"#3F3C3C\", \"borderwidth\": 0, \"font\": {\"color\": \"white\"}, \"orientation\": \"h\", \"x\": 0.5, \"xanchor\": \"center\", \"y\": -0.15, \"yanchor\": \"bottom\"}, \"paper_bgcolor\": \"#3F3C3C\", \"plot_bgcolor\": \"#3F3C3C\", \"template\": {\"data\": {\"bar\": [{\"error_x\": {\"color\": \"#2a3f5f\"}, \"error_y\": {\"color\": \"#2a3f5f\"}, \"marker\": {\"line\": {\"color\": \"#E5ECF6\", \"width\": 0.5}}, \"type\": \"bar\"}], \"barpolar\": [{\"marker\": {\"line\": {\"color\": \"#E5ECF6\", \"width\": 0.5}}, \"type\": \"barpolar\"}], \"carpet\": [{\"aaxis\": {\"endlinecolor\": \"#2a3f5f\", \"gridcolor\": \"white\", \"linecolor\": \"white\", \"minorgridcolor\": \"white\", \"startlinecolor\": \"#2a3f5f\"}, \"baxis\": {\"endlinecolor\": \"#2a3f5f\", \"gridcolor\": \"white\", \"linecolor\": \"white\", \"minorgridcolor\": \"white\", \"startlinecolor\": \"#2a3f5f\"}, \"type\": \"carpet\"}], \"choropleth\": [{\"colorbar\": {\"outlinewidth\": 0, \"ticks\": \"\"}, \"type\": \"choropleth\"}], \"contour\": [{\"colorbar\": {\"outlinewidth\": 0, \"ticks\": \"\"}, \"colorscale\": [[0.0, \"#0d0887\"], [0.1111111111111111, \"#46039f\"], [0.2222222222222222, \"#7201a8\"], [0.3333333333333333, \"#9c179e\"], [0.4444444444444444, \"#bd3786\"], [0.5555555555555556, \"#d8576b\"], [0.6666666666666666, \"#ed7953\"], [0.7777777777777778, \"#fb9f3a\"], [0.8888888888888888, \"#fdca26\"], [1.0, \"#f0f921\"]], \"type\": \"contour\"}], \"contourcarpet\": [{\"colorbar\": {\"outlinewidth\": 0, \"ticks\": \"\"}, \"type\": \"contourcarpet\"}], \"heatmap\": [{\"colorbar\": {\"outlinewidth\": 0, \"ticks\": \"\"}, \"colorscale\": [[0.0, \"#0d0887\"], [0.1111111111111111, \"#46039f\"], [0.2222222222222222, \"#7201a8\"], [0.3333333333333333, \"#9c179e\"], [0.4444444444444444, \"#bd3786\"], [0.5555555555555556, \"#d8576b\"], [0.6666666666666666, \"#ed7953\"], [0.7777777777777778, \"#fb9f3a\"], [0.8888888888888888, \"#fdca26\"], [1.0, \"#f0f921\"]], \"type\": \"heatmap\"}], \"heatmapgl\": [{\"colorbar\": {\"outlinewidth\": 0, \"ticks\": \"\"}, \"colorscale\": [[0.0, \"#0d0887\"], [0.1111111111111111, \"#46039f\"], [0.2222222222222222, \"#7201a8\"], [0.3333333333333333, \"#9c179e\"], [0.4444444444444444, \"#bd3786\"], [0.5555555555555556, \"#d8576b\"], [0.6666666666666666, \"#ed7953\"], [0.7777777777777778, \"#fb9f3a\"], [0.8888888888888888, \"#fdca26\"], [1.0, \"#f0f921\"]], \"type\": \"heatmapgl\"}], \"histogram\": [{\"marker\": {\"colorbar\": {\"outlinewidth\": 0, \"ticks\": \"\"}}, \"type\": \"histogram\"}], \"histogram2d\": [{\"colorbar\": {\"outlinewidth\": 0, \"ticks\": \"\"}, \"colorscale\": [[0.0, \"#0d0887\"], [0.1111111111111111, \"#46039f\"], [0.2222222222222222, \"#7201a8\"], [0.3333333333333333, \"#9c179e\"], [0.4444444444444444, \"#bd3786\"], [0.5555555555555556, \"#d8576b\"], [0.6666666666666666, \"#ed7953\"], [0.7777777777777778, \"#fb9f3a\"], [0.8888888888888888, \"#fdca26\"], [1.0, \"#f0f921\"]], \"type\": \"histogram2d\"}], \"histogram2dcontour\": [{\"colorbar\": {\"outlinewidth\": 0, \"ticks\": \"\"}, \"colorscale\": [[0.0, \"#0d0887\"], [0.1111111111111111, \"#46039f\"], [0.2222222222222222, \"#7201a8\"], [0.3333333333333333, \"#9c179e\"], [0.4444444444444444, \"#bd3786\"], [0.5555555555555556, \"#d8576b\"], [0.6666666666666666, \"#ed7953\"], [0.7777777777777778, \"#fb9f3a\"], [0.8888888888888888, \"#fdca26\"], [1.0, \"#f0f921\"]], \"type\": \"histogram2dcontour\"}], \"mesh3d\": [{\"colorbar\": {\"outlinewidth\": 0, \"ticks\": \"\"}, \"type\": \"mesh3d\"}], \"parcoords\": [{\"line\": {\"colorbar\": {\"outlinewidth\": 0, \"ticks\": \"\"}}, \"type\": \"parcoords\"}], \"pie\": [{\"automargin\": true, \"type\": \"pie\"}], \"scatter\": [{\"marker\": {\"colorbar\": {\"outlinewidth\": 0, \"ticks\": \"\"}}, \"type\": \"scatter\"}], \"scatter3d\": [{\"line\": {\"colorbar\": {\"outlinewidth\": 0, \"ticks\": \"\"}}, \"marker\": {\"colorbar\": {\"outlinewidth\": 0, \"ticks\": \"\"}}, \"type\": \"scatter3d\"}], \"scattercarpet\": [{\"marker\": {\"colorbar\": {\"outlinewidth\": 0, \"ticks\": \"\"}}, \"type\": \"scattercarpet\"}], \"scattergeo\": [{\"marker\": {\"colorbar\": {\"outlinewidth\": 0, \"ticks\": \"\"}}, \"type\": \"scattergeo\"}], \"scattergl\": [{\"marker\": {\"colorbar\": {\"outlinewidth\": 0, \"ticks\": \"\"}}, \"type\": \"scattergl\"}], \"scattermapbox\": [{\"marker\": {\"colorbar\": {\"outlinewidth\": 0, \"ticks\": \"\"}}, \"type\": \"scattermapbox\"}], \"scatterpolar\": [{\"marker\": {\"colorbar\": {\"outlinewidth\": 0, \"ticks\": \"\"}}, \"type\": \"scatterpolar\"}], \"scatterpolargl\": [{\"marker\": {\"colorbar\": {\"outlinewidth\": 0, \"ticks\": \"\"}}, \"type\": \"scatterpolargl\"}], \"scatterternary\": [{\"marker\": {\"colorbar\": {\"outlinewidth\": 0, \"ticks\": \"\"}}, \"type\": \"scatterternary\"}], \"surface\": [{\"colorbar\": {\"outlinewidth\": 0, \"ticks\": \"\"}, \"colorscale\": [[0.0, \"#0d0887\"], [0.1111111111111111, \"#46039f\"], [0.2222222222222222, \"#7201a8\"], [0.3333333333333333, \"#9c179e\"], [0.4444444444444444, \"#bd3786\"], [0.5555555555555556, \"#d8576b\"], [0.6666666666666666, \"#ed7953\"], [0.7777777777777778, \"#fb9f3a\"], [0.8888888888888888, \"#fdca26\"], [1.0, \"#f0f921\"]], \"type\": \"surface\"}], \"table\": [{\"cells\": {\"fill\": {\"color\": \"#EBF0F8\"}, \"line\": {\"color\": \"white\"}}, \"header\": {\"fill\": {\"color\": \"#C8D4E3\"}, \"line\": {\"color\": \"white\"}}, \"type\": \"table\"}]}, \"layout\": {\"annotationdefaults\": {\"arrowcolor\": \"#2a3f5f\", \"arrowhead\": 0, \"arrowwidth\": 1}, \"autotypenumbers\": \"strict\", \"coloraxis\": {\"colorbar\": {\"outlinewidth\": 0, \"ticks\": \"\"}}, \"colorscale\": {\"diverging\": [[0, \"#8e0152\"], [0.1, \"#c51b7d\"], [0.2, \"#de77ae\"], [0.3, \"#f1b6da\"], [0.4, \"#fde0ef\"], [0.5, \"#f7f7f7\"], [0.6, \"#e6f5d0\"], [0.7, \"#b8e186\"], [0.8, \"#7fbc41\"], [0.9, \"#4d9221\"], [1, \"#276419\"]], \"sequential\": [[0.0, \"#0d0887\"], [0.1111111111111111, \"#46039f\"], [0.2222222222222222, \"#7201a8\"], [0.3333333333333333, \"#9c179e\"], [0.4444444444444444, \"#bd3786\"], [0.5555555555555556, \"#d8576b\"], [0.6666666666666666, \"#ed7953\"], [0.7777777777777778, \"#fb9f3a\"], [0.8888888888888888, \"#fdca26\"], [1.0, \"#f0f921\"]], \"sequentialminus\": [[0.0, \"#0d0887\"], [0.1111111111111111, \"#46039f\"], [0.2222222222222222, \"#7201a8\"], [0.3333333333333333, \"#9c179e\"], [0.4444444444444444, \"#bd3786\"], [0.5555555555555556, \"#d8576b\"], [0.6666666666666666, \"#ed7953\"], [0.7777777777777778, \"#fb9f3a\"], [0.8888888888888888, \"#fdca26\"], [1.0, \"#f0f921\"]]}, \"colorway\": [\"#636efa\", \"#EF553B\", \"#00cc96\", \"#ab63fa\", \"#FFA15A\", \"#19d3f3\", \"#FF6692\", \"#B6E880\", \"#FF97FF\", \"#FECB52\"], \"font\": {\"color\": \"#2a3f5f\"}, \"geo\": {\"bgcolor\": \"white\", \"lakecolor\": \"white\", \"landcolor\": \"#E5ECF6\", \"showlakes\": true, \"showland\": true, \"subunitcolor\": \"white\"}, \"hoverlabel\": {\"align\": \"left\"}, \"hovermode\": \"closest\", \"mapbox\": {\"style\": \"light\"}, \"paper_bgcolor\": \"white\", \"plot_bgcolor\": \"#E5ECF6\", \"polar\": {\"angularaxis\": {\"gridcolor\": \"white\", \"linecolor\": \"white\", \"ticks\": \"\"}, \"bgcolor\": \"#E5ECF6\", \"radialaxis\": {\"gridcolor\": \"white\", \"linecolor\": \"white\", \"ticks\": \"\"}}, \"scene\": {\"xaxis\": {\"backgroundcolor\": \"#E5ECF6\", \"gridcolor\": \"white\", \"gridwidth\": 2, \"linecolor\": \"white\", \"showbackground\": true, \"ticks\": \"\", \"zerolinecolor\": \"white\"}, \"yaxis\": {\"backgroundcolor\": \"#E5ECF6\", \"gridcolor\": \"white\", \"gridwidth\": 2, \"linecolor\": \"white\", \"showbackground\": true, \"ticks\": \"\", \"zerolinecolor\": \"white\"}, \"zaxis\": {\"backgroundcolor\": \"#E5ECF6\", \"gridcolor\": \"white\", \"gridwidth\": 2, \"linecolor\": \"white\", \"showbackground\": true, \"ticks\": \"\", \"zerolinecolor\": \"white\"}}, \"shapedefaults\": {\"line\": {\"color\": \"#2a3f5f\"}}, \"ternary\": {\"aaxis\": {\"gridcolor\": \"white\", \"linecolor\": \"white\", \"ticks\": \"\"}, \"baxis\": {\"gridcolor\": \"white\", \"linecolor\": \"white\", \"ticks\": \"\"}, \"bgcolor\": \"#E5ECF6\", \"caxis\": {\"gridcolor\": \"white\", \"linecolor\": \"white\", \"ticks\": \"\"}}, \"title\": {\"x\": 0.05}, \"xaxis\": {\"automargin\": true, \"gridcolor\": \"white\", \"linecolor\": \"white\", \"ticks\": \"\", \"title\": {\"standoff\": 15}, \"zerolinecolor\": \"white\", \"zerolinewidth\": 2}, \"yaxis\": {\"automargin\": true, \"gridcolor\": \"white\", \"linecolor\": \"white\", \"ticks\": \"\", \"title\": {\"standoff\": 15}, \"zerolinecolor\": \"white\", \"zerolinewidth\": 2}}}, \"title\": {\"font\": {\"color\": \"white\", \"size\": 20}, \"text\": \"Yearly Reports\", \"x\": 0.5, \"xanchor\": \"center\", \"y\": 0.9, \"yanchor\": \"top\"}, \"yaxis\": {\"gridcolor\": \"rgba(233,233,233,0.1)\", \"gridwidth\": 2, \"showgrid\": true, \"tickformat\": \",.\", \"tickprefix\": \"R$ \"}},                        {\"responsive\": true}                    ).then(function(){\n",
       "                            \n",
       "var gd = document.getElementById('5125e4d7-6803-4693-9878-afd9754b79d8');\n",
       "var x = new MutationObserver(function (mutations, observer) {{\n",
       "        var display = window.getComputedStyle(gd).display;\n",
       "        if (!display || display === 'none') {{\n",
       "            console.log([gd, 'removed!']);\n",
       "            Plotly.purge(gd);\n",
       "            observer.disconnect();\n",
       "        }}\n",
       "}});\n",
       "\n",
       "// Listen for the removal of the full notebook cells\n",
       "var notebookContainer = gd.closest('#notebook-container');\n",
       "if (notebookContainer) {{\n",
       "    x.observe(notebookContainer, {childList: true});\n",
       "}}\n",
       "\n",
       "// Listen for the clearing of the current output cell\n",
       "var outputEl = gd.closest('.output');\n",
       "if (outputEl) {{\n",
       "    x.observe(outputEl, {childList: true});\n",
       "}}\n",
       "\n",
       "                        })                };                });            </script>        </div>"
      ]
     },
     "metadata": {},
     "output_type": "display_data"
    }
   ],
   "source": [
    "import plotly.offline as pyoff\n",
    "import plotly.graph_objs as go\n",
    "\n",
    "data = [go.Bar(x=tickerFinancials.index.year,\n",
    "               y=tickerFinancials['Total Revenue'],\n",
    "               marker={'color': '#37A5FF'},\n",
    "               name='Revenue'),\n",
    "        \n",
    "       go.Bar(x=tickerFinancials.index.year,\n",
    "              y=tickerFinancials['Gross Profit'],\n",
    "              marker={'color': '#FF7300'},\n",
    "              name='Gross Profit'),\n",
    "        \n",
    "       go.Bar(x=tickerFinancials.index.year,\n",
    "              y=tickerFinancials['Ebit'],\n",
    "              marker={'color': '#919191'},\n",
    "              name='EBIT'),\n",
    "        \n",
    "       go.Bar(x=tickerFinancials.index.year,\n",
    "              y=tickerFinancials['Net Income'],\n",
    "              marker={'color': '#FFE10D'},\n",
    "              name='Net Income')]\n",
    "\n",
    "layout = go.Layout(title={'text':'Yearly Reports',\n",
    "                         'font':{'color':'white',\n",
    "                                'size': 20},\n",
    "                         'x':0.5,\n",
    "                         'xanchor':'center',\n",
    "                         'y':0.9,\n",
    "                         'yanchor':'top'},\n",
    "                   \n",
    "                   legend={'font':{'color':'white'},\n",
    "                         'borderwidth':0,\n",
    "                         'bgcolor':'#3F3C3C',\n",
    "                         'orientation':\"h\",\n",
    "                         'x':0.5,\n",
    "                         'xanchor':\"center\",\n",
    "                         'y':-0.15,\n",
    "                         'yanchor':\"bottom\"},\n",
    "                   \n",
    "                   plot_bgcolor='#3F3C3C',\n",
    "                   paper_bgcolor='#3F3C3C',\n",
    "                   font={'color':'white'})\n",
    "\n",
    "fig = go.Figure(data=data, layout=layout)\n",
    "fig.update_yaxes(showgrid=True, gridwidth=2, gridcolor='rgba(233,233,233,0.1)')\n",
    "fig.update_layout(yaxis_tickprefix = currencies[tickerData.info['currency']], yaxis_tickformat = ',.')\n",
    "    \n",
    "pyoff.iplot(fig)"
   ]
  },
  {
   "cell_type": "code",
   "execution_count": 24,
   "metadata": {},
   "outputs": [
    {
     "data": {
      "application/vnd.plotly.v1+json": {
       "config": {
        "linkText": "Export to plot.ly",
        "plotlyServerURL": "https://plot.ly",
        "showLink": false
       },
       "data": [
        {
         "marker": {
          "color": "#37A5FF"
         },
         "name": "Revenue",
         "type": "scatter",
         "x": [
          2020,
          2019,
          2018,
          2017
         ],
         "y": [
          7252524000,
          6103608000,
          6025054000,
          5415422000
         ]
        },
        {
         "marker": {
          "color": "#FF7300"
         },
         "name": "Gross Profit",
         "type": "scatter",
         "x": [
          2020,
          2019,
          2018,
          2017
         ],
         "y": [
          1968037000,
          1831279000,
          1995512000,
          2035585000
         ]
        },
        {
         "marker": {
          "color": "#919191"
         },
         "name": "EBIT",
         "type": "scatter",
         "x": [
          2020,
          2019,
          2018,
          2017
         ],
         "y": [
          767339000,
          628448000,
          786721000,
          839271000
         ]
        },
        {
         "marker": {
          "color": "#FFE10D"
         },
         "name": "Net Income",
         "type": "scatter",
         "x": [
          2020,
          2019,
          2018,
          2017
         ],
         "y": [
          763844000,
          556884000,
          723497000,
          844183000
         ]
        }
       ],
       "layout": {
        "font": {
         "color": "white"
        },
        "legend": {
         "bgcolor": "#3F3C3C",
         "borderwidth": 0,
         "font": {
          "color": "white"
         },
         "orientation": "h",
         "x": 0.5,
         "xanchor": "center",
         "y": -0.15,
         "yanchor": "bottom"
        },
        "paper_bgcolor": "#3F3C3C",
        "plot_bgcolor": "#3F3C3C",
        "template": {
         "data": {
          "bar": [
           {
            "error_x": {
             "color": "#2a3f5f"
            },
            "error_y": {
             "color": "#2a3f5f"
            },
            "marker": {
             "line": {
              "color": "#E5ECF6",
              "width": 0.5
             }
            },
            "type": "bar"
           }
          ],
          "barpolar": [
           {
            "marker": {
             "line": {
              "color": "#E5ECF6",
              "width": 0.5
             }
            },
            "type": "barpolar"
           }
          ],
          "carpet": [
           {
            "aaxis": {
             "endlinecolor": "#2a3f5f",
             "gridcolor": "white",
             "linecolor": "white",
             "minorgridcolor": "white",
             "startlinecolor": "#2a3f5f"
            },
            "baxis": {
             "endlinecolor": "#2a3f5f",
             "gridcolor": "white",
             "linecolor": "white",
             "minorgridcolor": "white",
             "startlinecolor": "#2a3f5f"
            },
            "type": "carpet"
           }
          ],
          "choropleth": [
           {
            "colorbar": {
             "outlinewidth": 0,
             "ticks": ""
            },
            "type": "choropleth"
           }
          ],
          "contour": [
           {
            "colorbar": {
             "outlinewidth": 0,
             "ticks": ""
            },
            "colorscale": [
             [
              0,
              "#0d0887"
             ],
             [
              0.1111111111111111,
              "#46039f"
             ],
             [
              0.2222222222222222,
              "#7201a8"
             ],
             [
              0.3333333333333333,
              "#9c179e"
             ],
             [
              0.4444444444444444,
              "#bd3786"
             ],
             [
              0.5555555555555556,
              "#d8576b"
             ],
             [
              0.6666666666666666,
              "#ed7953"
             ],
             [
              0.7777777777777778,
              "#fb9f3a"
             ],
             [
              0.8888888888888888,
              "#fdca26"
             ],
             [
              1,
              "#f0f921"
             ]
            ],
            "type": "contour"
           }
          ],
          "contourcarpet": [
           {
            "colorbar": {
             "outlinewidth": 0,
             "ticks": ""
            },
            "type": "contourcarpet"
           }
          ],
          "heatmap": [
           {
            "colorbar": {
             "outlinewidth": 0,
             "ticks": ""
            },
            "colorscale": [
             [
              0,
              "#0d0887"
             ],
             [
              0.1111111111111111,
              "#46039f"
             ],
             [
              0.2222222222222222,
              "#7201a8"
             ],
             [
              0.3333333333333333,
              "#9c179e"
             ],
             [
              0.4444444444444444,
              "#bd3786"
             ],
             [
              0.5555555555555556,
              "#d8576b"
             ],
             [
              0.6666666666666666,
              "#ed7953"
             ],
             [
              0.7777777777777778,
              "#fb9f3a"
             ],
             [
              0.8888888888888888,
              "#fdca26"
             ],
             [
              1,
              "#f0f921"
             ]
            ],
            "type": "heatmap"
           }
          ],
          "heatmapgl": [
           {
            "colorbar": {
             "outlinewidth": 0,
             "ticks": ""
            },
            "colorscale": [
             [
              0,
              "#0d0887"
             ],
             [
              0.1111111111111111,
              "#46039f"
             ],
             [
              0.2222222222222222,
              "#7201a8"
             ],
             [
              0.3333333333333333,
              "#9c179e"
             ],
             [
              0.4444444444444444,
              "#bd3786"
             ],
             [
              0.5555555555555556,
              "#d8576b"
             ],
             [
              0.6666666666666666,
              "#ed7953"
             ],
             [
              0.7777777777777778,
              "#fb9f3a"
             ],
             [
              0.8888888888888888,
              "#fdca26"
             ],
             [
              1,
              "#f0f921"
             ]
            ],
            "type": "heatmapgl"
           }
          ],
          "histogram": [
           {
            "marker": {
             "colorbar": {
              "outlinewidth": 0,
              "ticks": ""
             }
            },
            "type": "histogram"
           }
          ],
          "histogram2d": [
           {
            "colorbar": {
             "outlinewidth": 0,
             "ticks": ""
            },
            "colorscale": [
             [
              0,
              "#0d0887"
             ],
             [
              0.1111111111111111,
              "#46039f"
             ],
             [
              0.2222222222222222,
              "#7201a8"
             ],
             [
              0.3333333333333333,
              "#9c179e"
             ],
             [
              0.4444444444444444,
              "#bd3786"
             ],
             [
              0.5555555555555556,
              "#d8576b"
             ],
             [
              0.6666666666666666,
              "#ed7953"
             ],
             [
              0.7777777777777778,
              "#fb9f3a"
             ],
             [
              0.8888888888888888,
              "#fdca26"
             ],
             [
              1,
              "#f0f921"
             ]
            ],
            "type": "histogram2d"
           }
          ],
          "histogram2dcontour": [
           {
            "colorbar": {
             "outlinewidth": 0,
             "ticks": ""
            },
            "colorscale": [
             [
              0,
              "#0d0887"
             ],
             [
              0.1111111111111111,
              "#46039f"
             ],
             [
              0.2222222222222222,
              "#7201a8"
             ],
             [
              0.3333333333333333,
              "#9c179e"
             ],
             [
              0.4444444444444444,
              "#bd3786"
             ],
             [
              0.5555555555555556,
              "#d8576b"
             ],
             [
              0.6666666666666666,
              "#ed7953"
             ],
             [
              0.7777777777777778,
              "#fb9f3a"
             ],
             [
              0.8888888888888888,
              "#fdca26"
             ],
             [
              1,
              "#f0f921"
             ]
            ],
            "type": "histogram2dcontour"
           }
          ],
          "mesh3d": [
           {
            "colorbar": {
             "outlinewidth": 0,
             "ticks": ""
            },
            "type": "mesh3d"
           }
          ],
          "parcoords": [
           {
            "line": {
             "colorbar": {
              "outlinewidth": 0,
              "ticks": ""
             }
            },
            "type": "parcoords"
           }
          ],
          "pie": [
           {
            "automargin": true,
            "type": "pie"
           }
          ],
          "scatter": [
           {
            "marker": {
             "colorbar": {
              "outlinewidth": 0,
              "ticks": ""
             }
            },
            "type": "scatter"
           }
          ],
          "scatter3d": [
           {
            "line": {
             "colorbar": {
              "outlinewidth": 0,
              "ticks": ""
             }
            },
            "marker": {
             "colorbar": {
              "outlinewidth": 0,
              "ticks": ""
             }
            },
            "type": "scatter3d"
           }
          ],
          "scattercarpet": [
           {
            "marker": {
             "colorbar": {
              "outlinewidth": 0,
              "ticks": ""
             }
            },
            "type": "scattercarpet"
           }
          ],
          "scattergeo": [
           {
            "marker": {
             "colorbar": {
              "outlinewidth": 0,
              "ticks": ""
             }
            },
            "type": "scattergeo"
           }
          ],
          "scattergl": [
           {
            "marker": {
             "colorbar": {
              "outlinewidth": 0,
              "ticks": ""
             }
            },
            "type": "scattergl"
           }
          ],
          "scattermapbox": [
           {
            "marker": {
             "colorbar": {
              "outlinewidth": 0,
              "ticks": ""
             }
            },
            "type": "scattermapbox"
           }
          ],
          "scatterpolar": [
           {
            "marker": {
             "colorbar": {
              "outlinewidth": 0,
              "ticks": ""
             }
            },
            "type": "scatterpolar"
           }
          ],
          "scatterpolargl": [
           {
            "marker": {
             "colorbar": {
              "outlinewidth": 0,
              "ticks": ""
             }
            },
            "type": "scatterpolargl"
           }
          ],
          "scatterternary": [
           {
            "marker": {
             "colorbar": {
              "outlinewidth": 0,
              "ticks": ""
             }
            },
            "type": "scatterternary"
           }
          ],
          "surface": [
           {
            "colorbar": {
             "outlinewidth": 0,
             "ticks": ""
            },
            "colorscale": [
             [
              0,
              "#0d0887"
             ],
             [
              0.1111111111111111,
              "#46039f"
             ],
             [
              0.2222222222222222,
              "#7201a8"
             ],
             [
              0.3333333333333333,
              "#9c179e"
             ],
             [
              0.4444444444444444,
              "#bd3786"
             ],
             [
              0.5555555555555556,
              "#d8576b"
             ],
             [
              0.6666666666666666,
              "#ed7953"
             ],
             [
              0.7777777777777778,
              "#fb9f3a"
             ],
             [
              0.8888888888888888,
              "#fdca26"
             ],
             [
              1,
              "#f0f921"
             ]
            ],
            "type": "surface"
           }
          ],
          "table": [
           {
            "cells": {
             "fill": {
              "color": "#EBF0F8"
             },
             "line": {
              "color": "white"
             }
            },
            "header": {
             "fill": {
              "color": "#C8D4E3"
             },
             "line": {
              "color": "white"
             }
            },
            "type": "table"
           }
          ]
         },
         "layout": {
          "annotationdefaults": {
           "arrowcolor": "#2a3f5f",
           "arrowhead": 0,
           "arrowwidth": 1
          },
          "autotypenumbers": "strict",
          "coloraxis": {
           "colorbar": {
            "outlinewidth": 0,
            "ticks": ""
           }
          },
          "colorscale": {
           "diverging": [
            [
             0,
             "#8e0152"
            ],
            [
             0.1,
             "#c51b7d"
            ],
            [
             0.2,
             "#de77ae"
            ],
            [
             0.3,
             "#f1b6da"
            ],
            [
             0.4,
             "#fde0ef"
            ],
            [
             0.5,
             "#f7f7f7"
            ],
            [
             0.6,
             "#e6f5d0"
            ],
            [
             0.7,
             "#b8e186"
            ],
            [
             0.8,
             "#7fbc41"
            ],
            [
             0.9,
             "#4d9221"
            ],
            [
             1,
             "#276419"
            ]
           ],
           "sequential": [
            [
             0,
             "#0d0887"
            ],
            [
             0.1111111111111111,
             "#46039f"
            ],
            [
             0.2222222222222222,
             "#7201a8"
            ],
            [
             0.3333333333333333,
             "#9c179e"
            ],
            [
             0.4444444444444444,
             "#bd3786"
            ],
            [
             0.5555555555555556,
             "#d8576b"
            ],
            [
             0.6666666666666666,
             "#ed7953"
            ],
            [
             0.7777777777777778,
             "#fb9f3a"
            ],
            [
             0.8888888888888888,
             "#fdca26"
            ],
            [
             1,
             "#f0f921"
            ]
           ],
           "sequentialminus": [
            [
             0,
             "#0d0887"
            ],
            [
             0.1111111111111111,
             "#46039f"
            ],
            [
             0.2222222222222222,
             "#7201a8"
            ],
            [
             0.3333333333333333,
             "#9c179e"
            ],
            [
             0.4444444444444444,
             "#bd3786"
            ],
            [
             0.5555555555555556,
             "#d8576b"
            ],
            [
             0.6666666666666666,
             "#ed7953"
            ],
            [
             0.7777777777777778,
             "#fb9f3a"
            ],
            [
             0.8888888888888888,
             "#fdca26"
            ],
            [
             1,
             "#f0f921"
            ]
           ]
          },
          "colorway": [
           "#636efa",
           "#EF553B",
           "#00cc96",
           "#ab63fa",
           "#FFA15A",
           "#19d3f3",
           "#FF6692",
           "#B6E880",
           "#FF97FF",
           "#FECB52"
          ],
          "font": {
           "color": "#2a3f5f"
          },
          "geo": {
           "bgcolor": "white",
           "lakecolor": "white",
           "landcolor": "#E5ECF6",
           "showlakes": true,
           "showland": true,
           "subunitcolor": "white"
          },
          "hoverlabel": {
           "align": "left"
          },
          "hovermode": "closest",
          "mapbox": {
           "style": "light"
          },
          "paper_bgcolor": "white",
          "plot_bgcolor": "#E5ECF6",
          "polar": {
           "angularaxis": {
            "gridcolor": "white",
            "linecolor": "white",
            "ticks": ""
           },
           "bgcolor": "#E5ECF6",
           "radialaxis": {
            "gridcolor": "white",
            "linecolor": "white",
            "ticks": ""
           }
          },
          "scene": {
           "xaxis": {
            "backgroundcolor": "#E5ECF6",
            "gridcolor": "white",
            "gridwidth": 2,
            "linecolor": "white",
            "showbackground": true,
            "ticks": "",
            "zerolinecolor": "white"
           },
           "yaxis": {
            "backgroundcolor": "#E5ECF6",
            "gridcolor": "white",
            "gridwidth": 2,
            "linecolor": "white",
            "showbackground": true,
            "ticks": "",
            "zerolinecolor": "white"
           },
           "zaxis": {
            "backgroundcolor": "#E5ECF6",
            "gridcolor": "white",
            "gridwidth": 2,
            "linecolor": "white",
            "showbackground": true,
            "ticks": "",
            "zerolinecolor": "white"
           }
          },
          "shapedefaults": {
           "line": {
            "color": "#2a3f5f"
           }
          },
          "ternary": {
           "aaxis": {
            "gridcolor": "white",
            "linecolor": "white",
            "ticks": ""
           },
           "baxis": {
            "gridcolor": "white",
            "linecolor": "white",
            "ticks": ""
           },
           "bgcolor": "#E5ECF6",
           "caxis": {
            "gridcolor": "white",
            "linecolor": "white",
            "ticks": ""
           }
          },
          "title": {
           "x": 0.05
          },
          "xaxis": {
           "automargin": true,
           "gridcolor": "white",
           "linecolor": "white",
           "ticks": "",
           "title": {
            "standoff": 15
           },
           "zerolinecolor": "white",
           "zerolinewidth": 2
          },
          "yaxis": {
           "automargin": true,
           "gridcolor": "white",
           "linecolor": "white",
           "ticks": "",
           "title": {
            "standoff": 15
           },
           "zerolinecolor": "white",
           "zerolinewidth": 2
          }
         }
        },
        "title": {
         "font": {
          "color": "white",
          "size": 20
         },
         "text": "Yearly Reports",
         "x": 0.5,
         "xanchor": "center",
         "y": 0.9,
         "yanchor": "top"
        },
        "yaxis": {
         "gridcolor": "rgba(233,233,233,0.1)",
         "gridwidth": 2,
         "showgrid": true,
         "tickformat": ",.",
         "tickprefix": "R$ "
        }
       }
      },
      "text/html": [
       "<div>                            <div id=\"eacf00f5-51e4-4927-8e0a-0ed1c13051fa\" class=\"plotly-graph-div\" style=\"height:525px; width:100%;\"></div>            <script type=\"text/javascript\">                require([\"plotly\"], function(Plotly) {                    window.PLOTLYENV=window.PLOTLYENV || {};                                    if (document.getElementById(\"eacf00f5-51e4-4927-8e0a-0ed1c13051fa\")) {                    Plotly.newPlot(                        \"eacf00f5-51e4-4927-8e0a-0ed1c13051fa\",                        [{\"marker\": {\"color\": \"#37A5FF\"}, \"name\": \"Revenue\", \"type\": \"scatter\", \"x\": [2020, 2019, 2018, 2017], \"y\": [7252524000.0, 6103608000.0, 6025054000.0, 5415422000.0]}, {\"marker\": {\"color\": \"#FF7300\"}, \"name\": \"Gross Profit\", \"type\": \"scatter\", \"x\": [2020, 2019, 2018, 2017], \"y\": [1968037000.0, 1831279000.0, 1995512000.0, 2035585000.0]}, {\"marker\": {\"color\": \"#919191\"}, \"name\": \"EBIT\", \"type\": \"scatter\", \"x\": [2020, 2019, 2018, 2017], \"y\": [767339000.0, 628448000.0, 786721000.0, 839271000.0]}, {\"marker\": {\"color\": \"#FFE10D\"}, \"name\": \"Net Income\", \"type\": \"scatter\", \"x\": [2020, 2019, 2018, 2017], \"y\": [763844000.0, 556884000.0, 723497000.0, 844183000.0]}],                        {\"font\": {\"color\": \"white\"}, \"legend\": {\"bgcolor\": \"#3F3C3C\", \"borderwidth\": 0, \"font\": {\"color\": \"white\"}, \"orientation\": \"h\", \"x\": 0.5, \"xanchor\": \"center\", \"y\": -0.15, \"yanchor\": \"bottom\"}, \"paper_bgcolor\": \"#3F3C3C\", \"plot_bgcolor\": \"#3F3C3C\", \"template\": {\"data\": {\"bar\": [{\"error_x\": {\"color\": \"#2a3f5f\"}, \"error_y\": {\"color\": \"#2a3f5f\"}, \"marker\": {\"line\": {\"color\": \"#E5ECF6\", \"width\": 0.5}}, \"type\": \"bar\"}], \"barpolar\": [{\"marker\": {\"line\": {\"color\": \"#E5ECF6\", \"width\": 0.5}}, \"type\": \"barpolar\"}], \"carpet\": [{\"aaxis\": {\"endlinecolor\": \"#2a3f5f\", \"gridcolor\": \"white\", \"linecolor\": \"white\", \"minorgridcolor\": \"white\", \"startlinecolor\": \"#2a3f5f\"}, \"baxis\": {\"endlinecolor\": \"#2a3f5f\", \"gridcolor\": \"white\", \"linecolor\": \"white\", \"minorgridcolor\": \"white\", \"startlinecolor\": \"#2a3f5f\"}, \"type\": \"carpet\"}], \"choropleth\": [{\"colorbar\": {\"outlinewidth\": 0, \"ticks\": \"\"}, \"type\": \"choropleth\"}], \"contour\": [{\"colorbar\": {\"outlinewidth\": 0, \"ticks\": \"\"}, \"colorscale\": [[0.0, \"#0d0887\"], [0.1111111111111111, \"#46039f\"], [0.2222222222222222, \"#7201a8\"], [0.3333333333333333, \"#9c179e\"], [0.4444444444444444, \"#bd3786\"], [0.5555555555555556, \"#d8576b\"], [0.6666666666666666, \"#ed7953\"], [0.7777777777777778, \"#fb9f3a\"], [0.8888888888888888, \"#fdca26\"], [1.0, \"#f0f921\"]], \"type\": \"contour\"}], \"contourcarpet\": [{\"colorbar\": {\"outlinewidth\": 0, \"ticks\": \"\"}, \"type\": \"contourcarpet\"}], \"heatmap\": [{\"colorbar\": {\"outlinewidth\": 0, \"ticks\": \"\"}, \"colorscale\": [[0.0, \"#0d0887\"], [0.1111111111111111, \"#46039f\"], [0.2222222222222222, \"#7201a8\"], [0.3333333333333333, \"#9c179e\"], [0.4444444444444444, \"#bd3786\"], [0.5555555555555556, \"#d8576b\"], [0.6666666666666666, \"#ed7953\"], [0.7777777777777778, \"#fb9f3a\"], [0.8888888888888888, \"#fdca26\"], [1.0, \"#f0f921\"]], \"type\": \"heatmap\"}], \"heatmapgl\": [{\"colorbar\": {\"outlinewidth\": 0, \"ticks\": \"\"}, \"colorscale\": [[0.0, \"#0d0887\"], [0.1111111111111111, \"#46039f\"], [0.2222222222222222, \"#7201a8\"], [0.3333333333333333, \"#9c179e\"], [0.4444444444444444, \"#bd3786\"], [0.5555555555555556, \"#d8576b\"], [0.6666666666666666, \"#ed7953\"], [0.7777777777777778, \"#fb9f3a\"], [0.8888888888888888, \"#fdca26\"], [1.0, \"#f0f921\"]], \"type\": \"heatmapgl\"}], \"histogram\": [{\"marker\": {\"colorbar\": {\"outlinewidth\": 0, \"ticks\": \"\"}}, \"type\": \"histogram\"}], \"histogram2d\": [{\"colorbar\": {\"outlinewidth\": 0, \"ticks\": \"\"}, \"colorscale\": [[0.0, \"#0d0887\"], [0.1111111111111111, \"#46039f\"], [0.2222222222222222, \"#7201a8\"], [0.3333333333333333, \"#9c179e\"], [0.4444444444444444, \"#bd3786\"], [0.5555555555555556, \"#d8576b\"], [0.6666666666666666, \"#ed7953\"], [0.7777777777777778, \"#fb9f3a\"], [0.8888888888888888, \"#fdca26\"], [1.0, \"#f0f921\"]], \"type\": \"histogram2d\"}], \"histogram2dcontour\": [{\"colorbar\": {\"outlinewidth\": 0, \"ticks\": \"\"}, \"colorscale\": [[0.0, \"#0d0887\"], [0.1111111111111111, \"#46039f\"], [0.2222222222222222, \"#7201a8\"], [0.3333333333333333, \"#9c179e\"], [0.4444444444444444, \"#bd3786\"], [0.5555555555555556, \"#d8576b\"], [0.6666666666666666, \"#ed7953\"], [0.7777777777777778, \"#fb9f3a\"], [0.8888888888888888, \"#fdca26\"], [1.0, \"#f0f921\"]], \"type\": \"histogram2dcontour\"}], \"mesh3d\": [{\"colorbar\": {\"outlinewidth\": 0, \"ticks\": \"\"}, \"type\": \"mesh3d\"}], \"parcoords\": [{\"line\": {\"colorbar\": {\"outlinewidth\": 0, \"ticks\": \"\"}}, \"type\": \"parcoords\"}], \"pie\": [{\"automargin\": true, \"type\": \"pie\"}], \"scatter\": [{\"marker\": {\"colorbar\": {\"outlinewidth\": 0, \"ticks\": \"\"}}, \"type\": \"scatter\"}], \"scatter3d\": [{\"line\": {\"colorbar\": {\"outlinewidth\": 0, \"ticks\": \"\"}}, \"marker\": {\"colorbar\": {\"outlinewidth\": 0, \"ticks\": \"\"}}, \"type\": \"scatter3d\"}], \"scattercarpet\": [{\"marker\": {\"colorbar\": {\"outlinewidth\": 0, \"ticks\": \"\"}}, \"type\": \"scattercarpet\"}], \"scattergeo\": [{\"marker\": {\"colorbar\": {\"outlinewidth\": 0, \"ticks\": \"\"}}, \"type\": \"scattergeo\"}], \"scattergl\": [{\"marker\": {\"colorbar\": {\"outlinewidth\": 0, \"ticks\": \"\"}}, \"type\": \"scattergl\"}], \"scattermapbox\": [{\"marker\": {\"colorbar\": {\"outlinewidth\": 0, \"ticks\": \"\"}}, \"type\": \"scattermapbox\"}], \"scatterpolar\": [{\"marker\": {\"colorbar\": {\"outlinewidth\": 0, \"ticks\": \"\"}}, \"type\": \"scatterpolar\"}], \"scatterpolargl\": [{\"marker\": {\"colorbar\": {\"outlinewidth\": 0, \"ticks\": \"\"}}, \"type\": \"scatterpolargl\"}], \"scatterternary\": [{\"marker\": {\"colorbar\": {\"outlinewidth\": 0, \"ticks\": \"\"}}, \"type\": \"scatterternary\"}], \"surface\": [{\"colorbar\": {\"outlinewidth\": 0, \"ticks\": \"\"}, \"colorscale\": [[0.0, \"#0d0887\"], [0.1111111111111111, \"#46039f\"], [0.2222222222222222, \"#7201a8\"], [0.3333333333333333, \"#9c179e\"], [0.4444444444444444, \"#bd3786\"], [0.5555555555555556, \"#d8576b\"], [0.6666666666666666, \"#ed7953\"], [0.7777777777777778, \"#fb9f3a\"], [0.8888888888888888, \"#fdca26\"], [1.0, \"#f0f921\"]], \"type\": \"surface\"}], \"table\": [{\"cells\": {\"fill\": {\"color\": \"#EBF0F8\"}, \"line\": {\"color\": \"white\"}}, \"header\": {\"fill\": {\"color\": \"#C8D4E3\"}, \"line\": {\"color\": \"white\"}}, \"type\": \"table\"}]}, \"layout\": {\"annotationdefaults\": {\"arrowcolor\": \"#2a3f5f\", \"arrowhead\": 0, \"arrowwidth\": 1}, \"autotypenumbers\": \"strict\", \"coloraxis\": {\"colorbar\": {\"outlinewidth\": 0, \"ticks\": \"\"}}, \"colorscale\": {\"diverging\": [[0, \"#8e0152\"], [0.1, \"#c51b7d\"], [0.2, \"#de77ae\"], [0.3, \"#f1b6da\"], [0.4, \"#fde0ef\"], [0.5, \"#f7f7f7\"], [0.6, \"#e6f5d0\"], [0.7, \"#b8e186\"], [0.8, \"#7fbc41\"], [0.9, \"#4d9221\"], [1, \"#276419\"]], \"sequential\": [[0.0, \"#0d0887\"], [0.1111111111111111, \"#46039f\"], [0.2222222222222222, \"#7201a8\"], [0.3333333333333333, \"#9c179e\"], [0.4444444444444444, \"#bd3786\"], [0.5555555555555556, \"#d8576b\"], [0.6666666666666666, \"#ed7953\"], [0.7777777777777778, \"#fb9f3a\"], [0.8888888888888888, \"#fdca26\"], [1.0, \"#f0f921\"]], \"sequentialminus\": [[0.0, \"#0d0887\"], [0.1111111111111111, \"#46039f\"], [0.2222222222222222, \"#7201a8\"], [0.3333333333333333, \"#9c179e\"], [0.4444444444444444, \"#bd3786\"], [0.5555555555555556, \"#d8576b\"], [0.6666666666666666, \"#ed7953\"], [0.7777777777777778, \"#fb9f3a\"], [0.8888888888888888, \"#fdca26\"], [1.0, \"#f0f921\"]]}, \"colorway\": [\"#636efa\", \"#EF553B\", \"#00cc96\", \"#ab63fa\", \"#FFA15A\", \"#19d3f3\", \"#FF6692\", \"#B6E880\", \"#FF97FF\", \"#FECB52\"], \"font\": {\"color\": \"#2a3f5f\"}, \"geo\": {\"bgcolor\": \"white\", \"lakecolor\": \"white\", \"landcolor\": \"#E5ECF6\", \"showlakes\": true, \"showland\": true, \"subunitcolor\": \"white\"}, \"hoverlabel\": {\"align\": \"left\"}, \"hovermode\": \"closest\", \"mapbox\": {\"style\": \"light\"}, \"paper_bgcolor\": \"white\", \"plot_bgcolor\": \"#E5ECF6\", \"polar\": {\"angularaxis\": {\"gridcolor\": \"white\", \"linecolor\": \"white\", \"ticks\": \"\"}, \"bgcolor\": \"#E5ECF6\", \"radialaxis\": {\"gridcolor\": \"white\", \"linecolor\": \"white\", \"ticks\": \"\"}}, \"scene\": {\"xaxis\": {\"backgroundcolor\": \"#E5ECF6\", \"gridcolor\": \"white\", \"gridwidth\": 2, \"linecolor\": \"white\", \"showbackground\": true, \"ticks\": \"\", \"zerolinecolor\": \"white\"}, \"yaxis\": {\"backgroundcolor\": \"#E5ECF6\", \"gridcolor\": \"white\", \"gridwidth\": 2, \"linecolor\": \"white\", \"showbackground\": true, \"ticks\": \"\", \"zerolinecolor\": \"white\"}, \"zaxis\": {\"backgroundcolor\": \"#E5ECF6\", \"gridcolor\": \"white\", \"gridwidth\": 2, \"linecolor\": \"white\", \"showbackground\": true, \"ticks\": \"\", \"zerolinecolor\": \"white\"}}, \"shapedefaults\": {\"line\": {\"color\": \"#2a3f5f\"}}, \"ternary\": {\"aaxis\": {\"gridcolor\": \"white\", \"linecolor\": \"white\", \"ticks\": \"\"}, \"baxis\": {\"gridcolor\": \"white\", \"linecolor\": \"white\", \"ticks\": \"\"}, \"bgcolor\": \"#E5ECF6\", \"caxis\": {\"gridcolor\": \"white\", \"linecolor\": \"white\", \"ticks\": \"\"}}, \"title\": {\"x\": 0.05}, \"xaxis\": {\"automargin\": true, \"gridcolor\": \"white\", \"linecolor\": \"white\", \"ticks\": \"\", \"title\": {\"standoff\": 15}, \"zerolinecolor\": \"white\", \"zerolinewidth\": 2}, \"yaxis\": {\"automargin\": true, \"gridcolor\": \"white\", \"linecolor\": \"white\", \"ticks\": \"\", \"title\": {\"standoff\": 15}, \"zerolinecolor\": \"white\", \"zerolinewidth\": 2}}}, \"title\": {\"font\": {\"color\": \"white\", \"size\": 20}, \"text\": \"Yearly Reports\", \"x\": 0.5, \"xanchor\": \"center\", \"y\": 0.9, \"yanchor\": \"top\"}, \"yaxis\": {\"gridcolor\": \"rgba(233,233,233,0.1)\", \"gridwidth\": 2, \"showgrid\": true, \"tickformat\": \",.\", \"tickprefix\": \"R$ \"}},                        {\"responsive\": true}                    ).then(function(){\n",
       "                            \n",
       "var gd = document.getElementById('eacf00f5-51e4-4927-8e0a-0ed1c13051fa');\n",
       "var x = new MutationObserver(function (mutations, observer) {{\n",
       "        var display = window.getComputedStyle(gd).display;\n",
       "        if (!display || display === 'none') {{\n",
       "            console.log([gd, 'removed!']);\n",
       "            Plotly.purge(gd);\n",
       "            observer.disconnect();\n",
       "        }}\n",
       "}});\n",
       "\n",
       "// Listen for the removal of the full notebook cells\n",
       "var notebookContainer = gd.closest('#notebook-container');\n",
       "if (notebookContainer) {{\n",
       "    x.observe(notebookContainer, {childList: true});\n",
       "}}\n",
       "\n",
       "// Listen for the clearing of the current output cell\n",
       "var outputEl = gd.closest('.output');\n",
       "if (outputEl) {{\n",
       "    x.observe(outputEl, {childList: true});\n",
       "}}\n",
       "\n",
       "                        })                };                });            </script>        </div>"
      ]
     },
     "metadata": {},
     "output_type": "display_data"
    }
   ],
   "source": [
    "import plotly.offline as pyoff\n",
    "import plotly.graph_objs as go\n",
    "\n",
    "data = [go.Scatter(x=tickerFinancials.index.year,\n",
    "               y=tickerFinancials['Total Revenue'],\n",
    "               marker={'color': '#37A5FF'},\n",
    "               name='Revenue'),\n",
    "        \n",
    "       go.Scatter(x=tickerFinancials.index.year,\n",
    "              y=tickerFinancials['Gross Profit'],\n",
    "              marker={'color': '#FF7300'},\n",
    "              name='Gross Profit'),\n",
    "        \n",
    "       go.Scatter(x=tickerFinancials.index.year,\n",
    "              y=tickerFinancials['Ebit'],\n",
    "              marker={'color': '#919191'},\n",
    "              name='EBIT'),\n",
    "        \n",
    "       go.Scatter(x=tickerFinancials.index.year,\n",
    "              y=tickerFinancials['Net Income'],\n",
    "              marker={'color': '#FFE10D'},\n",
    "              name='Net Income')]\n",
    "\n",
    "layout = go.Layout(title={'text':'Yearly Reports',\n",
    "                         'font':{'color':'white',\n",
    "                                'size': 20},\n",
    "                         'x':0.5,\n",
    "                         'xanchor':'center',\n",
    "                         'y':0.9,\n",
    "                         'yanchor':'top'},\n",
    "                   \n",
    "                   legend={'font':{'color':'white'},\n",
    "                         'borderwidth':0,\n",
    "                         'bgcolor':'#3F3C3C',\n",
    "                         'orientation':\"h\",\n",
    "                         'x':0.5,\n",
    "                         'xanchor':\"center\",\n",
    "                         'y':-0.15,\n",
    "                         'yanchor':\"bottom\"},\n",
    "                   \n",
    "                   plot_bgcolor='#3F3C3C',\n",
    "                   paper_bgcolor='#3F3C3C',\n",
    "                   font={'color':'white'})\n",
    "\n",
    "fig = go.Figure(data=data, layout=layout)\n",
    "fig.update_yaxes(showgrid=True, gridwidth=2, gridcolor='rgba(233,233,233,0.1)')\n",
    "fig.update_layout(yaxis_tickprefix = currencies[tickerData.info['currency']], yaxis_tickformat = ',.')\n",
    "    \n",
    "pyoff.iplot(fig)"
   ]
  },
  {
   "cell_type": "code",
   "execution_count": 25,
   "metadata": {},
   "outputs": [
    {
     "data": {
      "text/html": [
       "<div>\n",
       "<style scoped>\n",
       "    .dataframe tbody tr th:only-of-type {\n",
       "        vertical-align: middle;\n",
       "    }\n",
       "\n",
       "    .dataframe tbody tr th {\n",
       "        vertical-align: top;\n",
       "    }\n",
       "\n",
       "    .dataframe thead th {\n",
       "        text-align: right;\n",
       "    }\n",
       "</style>\n",
       "<table border=\"1\" class=\"dataframe\">\n",
       "  <thead>\n",
       "    <tr style=\"text-align: right;\">\n",
       "      <th></th>\n",
       "      <th>Intangible Assets</th>\n",
       "      <th>Total Liab</th>\n",
       "      <th>Total Stockholder Equity</th>\n",
       "      <th>Other Current Liab</th>\n",
       "      <th>Total Assets</th>\n",
       "      <th>Common Stock</th>\n",
       "      <th>Other Current Assets</th>\n",
       "      <th>Retained Earnings</th>\n",
       "      <th>Other Liab</th>\n",
       "      <th>Good Will</th>\n",
       "      <th>...</th>\n",
       "      <th>Other Stockholder Equity</th>\n",
       "      <th>Property Plant Equipment</th>\n",
       "      <th>Total Current Assets</th>\n",
       "      <th>Long Term Investments</th>\n",
       "      <th>Net Tangible Assets</th>\n",
       "      <th>Short Term Investments</th>\n",
       "      <th>Net Receivables</th>\n",
       "      <th>Long Term Debt</th>\n",
       "      <th>Inventory</th>\n",
       "      <th>Accounts Payable</th>\n",
       "    </tr>\n",
       "    <tr>\n",
       "      <th></th>\n",
       "      <th></th>\n",
       "      <th></th>\n",
       "      <th></th>\n",
       "      <th></th>\n",
       "      <th></th>\n",
       "      <th></th>\n",
       "      <th></th>\n",
       "      <th></th>\n",
       "      <th></th>\n",
       "      <th></th>\n",
       "      <th></th>\n",
       "      <th></th>\n",
       "      <th></th>\n",
       "      <th></th>\n",
       "      <th></th>\n",
       "      <th></th>\n",
       "      <th></th>\n",
       "      <th></th>\n",
       "      <th></th>\n",
       "      <th></th>\n",
       "      <th></th>\n",
       "    </tr>\n",
       "  </thead>\n",
       "  <tbody>\n",
       "    <tr>\n",
       "      <th>2020-12-31</th>\n",
       "      <td>774952000.0</td>\n",
       "      <td>3.084290e+09</td>\n",
       "      <td>6.645568e+09</td>\n",
       "      <td>223033000.0</td>\n",
       "      <td>9.729858e+09</td>\n",
       "      <td>2.567941e+09</td>\n",
       "      <td>23794000.0</td>\n",
       "      <td>4.113519e+09</td>\n",
       "      <td>483412000.0</td>\n",
       "      <td>944412000.0</td>\n",
       "      <td>...</td>\n",
       "      <td>3684000.0</td>\n",
       "      <td>3.419394e+09</td>\n",
       "      <td>3.870602e+09</td>\n",
       "      <td>50595000.0</td>\n",
       "      <td>4.926204e+09</td>\n",
       "      <td>16413000.0</td>\n",
       "      <td>1.390998e+09</td>\n",
       "      <td>812989000.0</td>\n",
       "      <td>1.216085e+09</td>\n",
       "      <td>361738000.0</td>\n",
       "    </tr>\n",
       "    <tr>\n",
       "      <th>2019-12-31</th>\n",
       "      <td>778001000.0</td>\n",
       "      <td>2.066078e+09</td>\n",
       "      <td>6.034953e+09</td>\n",
       "      <td>211983000.0</td>\n",
       "      <td>8.101031e+09</td>\n",
       "      <td>2.508400e+09</td>\n",
       "      <td>7963000.0</td>\n",
       "      <td>3.516618e+09</td>\n",
       "      <td>454080000.0</td>\n",
       "      <td>944412000.0</td>\n",
       "      <td>...</td>\n",
       "      <td>9935000.0</td>\n",
       "      <td>3.351610e+09</td>\n",
       "      <td>2.321779e+09</td>\n",
       "      <td>56655000.0</td>\n",
       "      <td>4.312540e+09</td>\n",
       "      <td>16392000.0</td>\n",
       "      <td>1.142191e+09</td>\n",
       "      <td>371487000.0</td>\n",
       "      <td>7.990680e+08</td>\n",
       "      <td>149044000.0</td>\n",
       "    </tr>\n",
       "    <tr>\n",
       "      <th>2018-12-31</th>\n",
       "      <td>786358000.0</td>\n",
       "      <td>2.245623e+09</td>\n",
       "      <td>5.561843e+09</td>\n",
       "      <td>155835000.0</td>\n",
       "      <td>7.807466e+09</td>\n",
       "      <td>2.258633e+09</td>\n",
       "      <td>23925000.0</td>\n",
       "      <td>3.298116e+09</td>\n",
       "      <td>408945000.0</td>\n",
       "      <td>943716000.0</td>\n",
       "      <td>...</td>\n",
       "      <td>5094000.0</td>\n",
       "      <td>3.190488e+09</td>\n",
       "      <td>2.449247e+09</td>\n",
       "      <td>28815000.0</td>\n",
       "      <td>3.831769e+09</td>\n",
       "      <td>NaN</td>\n",
       "      <td>1.200928e+09</td>\n",
       "      <td>555848000.0</td>\n",
       "      <td>7.656200e+08</td>\n",
       "      <td>152356000.0</td>\n",
       "    </tr>\n",
       "    <tr>\n",
       "      <th>2017-12-31</th>\n",
       "      <td>274734000.0</td>\n",
       "      <td>1.097854e+09</td>\n",
       "      <td>4.991911e+09</td>\n",
       "      <td>124941000.0</td>\n",
       "      <td>6.089765e+09</td>\n",
       "      <td>1.765278e+09</td>\n",
       "      <td>NaN</td>\n",
       "      <td>3.225071e+09</td>\n",
       "      <td>280447000.0</td>\n",
       "      <td>582096000.0</td>\n",
       "      <td>...</td>\n",
       "      <td>1562000.0</td>\n",
       "      <td>2.467961e+09</td>\n",
       "      <td>2.551664e+09</td>\n",
       "      <td>21057000.0</td>\n",
       "      <td>4.135081e+09</td>\n",
       "      <td>NaN</td>\n",
       "      <td>9.788710e+08</td>\n",
       "      <td>228195000.0</td>\n",
       "      <td>6.403050e+08</td>\n",
       "      <td>136260000.0</td>\n",
       "    </tr>\n",
       "  </tbody>\n",
       "</table>\n",
       "<p>4 rows × 25 columns</p>\n",
       "</div>"
      ],
      "text/plain": [
       "            Intangible Assets    Total Liab  Total Stockholder Equity  \\\n",
       "                                                                        \n",
       "2020-12-31        774952000.0  3.084290e+09              6.645568e+09   \n",
       "2019-12-31        778001000.0  2.066078e+09              6.034953e+09   \n",
       "2018-12-31        786358000.0  2.245623e+09              5.561843e+09   \n",
       "2017-12-31        274734000.0  1.097854e+09              4.991911e+09   \n",
       "\n",
       "            Other Current Liab  Total Assets  Common Stock  \\\n",
       "                                                             \n",
       "2020-12-31         223033000.0  9.729858e+09  2.567941e+09   \n",
       "2019-12-31         211983000.0  8.101031e+09  2.508400e+09   \n",
       "2018-12-31         155835000.0  7.807466e+09  2.258633e+09   \n",
       "2017-12-31         124941000.0  6.089765e+09  1.765278e+09   \n",
       "\n",
       "            Other Current Assets  Retained Earnings   Other Liab    Good Will  \\\n",
       "                                                                                \n",
       "2020-12-31            23794000.0       4.113519e+09  483412000.0  944412000.0   \n",
       "2019-12-31             7963000.0       3.516618e+09  454080000.0  944412000.0   \n",
       "2018-12-31            23925000.0       3.298116e+09  408945000.0  943716000.0   \n",
       "2017-12-31                   NaN       3.225071e+09  280447000.0  582096000.0   \n",
       "\n",
       "            ...  Other Stockholder Equity  Property Plant Equipment  \\\n",
       "            ...                                                       \n",
       "2020-12-31  ...                 3684000.0              3.419394e+09   \n",
       "2019-12-31  ...                 9935000.0              3.351610e+09   \n",
       "2018-12-31  ...                 5094000.0              3.190488e+09   \n",
       "2017-12-31  ...                 1562000.0              2.467961e+09   \n",
       "\n",
       "            Total Current Assets  Long Term Investments  Net Tangible Assets  \\\n",
       "                                                                               \n",
       "2020-12-31          3.870602e+09             50595000.0         4.926204e+09   \n",
       "2019-12-31          2.321779e+09             56655000.0         4.312540e+09   \n",
       "2018-12-31          2.449247e+09             28815000.0         3.831769e+09   \n",
       "2017-12-31          2.551664e+09             21057000.0         4.135081e+09   \n",
       "\n",
       "            Short Term Investments  Net Receivables  Long Term Debt  \\\n",
       "                                                                      \n",
       "2020-12-31              16413000.0     1.390998e+09     812989000.0   \n",
       "2019-12-31              16392000.0     1.142191e+09     371487000.0   \n",
       "2018-12-31                     NaN     1.200928e+09     555848000.0   \n",
       "2017-12-31                     NaN     9.788710e+08     228195000.0   \n",
       "\n",
       "               Inventory  Accounts Payable  \n",
       "                                            \n",
       "2020-12-31  1.216085e+09       361738000.0  \n",
       "2019-12-31  7.990680e+08       149044000.0  \n",
       "2018-12-31  7.656200e+08       152356000.0  \n",
       "2017-12-31  6.403050e+08       136260000.0  \n",
       "\n",
       "[4 rows x 25 columns]"
      ]
     },
     "execution_count": 25,
     "metadata": {},
     "output_type": "execute_result"
    }
   ],
   "source": [
    "tickerBalanceSheet = tickerData.balance_sheet\n",
    "tickerBalanceSheet = tickerBalanceSheet.T\n",
    "tickerBalanceSheet"
   ]
  },
  {
   "cell_type": "code",
   "execution_count": 26,
   "metadata": {},
   "outputs": [
    {
     "data": {
      "text/html": [
       "<div>\n",
       "<style scoped>\n",
       "    .dataframe tbody tr th:only-of-type {\n",
       "        vertical-align: middle;\n",
       "    }\n",
       "\n",
       "    .dataframe tbody tr th {\n",
       "        vertical-align: top;\n",
       "    }\n",
       "\n",
       "    .dataframe thead th {\n",
       "        text-align: right;\n",
       "    }\n",
       "</style>\n",
       "<table border=\"1\" class=\"dataframe\">\n",
       "  <thead>\n",
       "    <tr style=\"text-align: right;\">\n",
       "      <th></th>\n",
       "      <th>Ticker</th>\n",
       "      <th>Name</th>\n",
       "      <th>Country</th>\n",
       "      <th>Type</th>\n",
       "      <th>Sector</th>\n",
       "      <th>Sub Sector</th>\n",
       "      <th>Segment</th>\n",
       "    </tr>\n",
       "  </thead>\n",
       "  <tbody>\n",
       "    <tr>\n",
       "      <th>0</th>\n",
       "      <td>PETR3</td>\n",
       "      <td>Petrobras</td>\n",
       "      <td>Brazil</td>\n",
       "      <td>Ação</td>\n",
       "      <td>Petróleo gás e biocombustíveis</td>\n",
       "      <td>Petróleo gás e biocombustíveis</td>\n",
       "      <td>Exploração refino e distribuição</td>\n",
       "    </tr>\n",
       "    <tr>\n",
       "      <th>1</th>\n",
       "      <td>PETR4</td>\n",
       "      <td>Petrobras</td>\n",
       "      <td>Brazil</td>\n",
       "      <td>Ação</td>\n",
       "      <td>Petróleo gás e biocombustíveis</td>\n",
       "      <td>Petróleo gás e biocombustíveis</td>\n",
       "      <td>Exploração refino e distribuição</td>\n",
       "    </tr>\n",
       "    <tr>\n",
       "      <th>2</th>\n",
       "      <td>ABEV3</td>\n",
       "      <td>Ambev S/A</td>\n",
       "      <td>Brazil</td>\n",
       "      <td>Ação</td>\n",
       "      <td>Consumo não cíclico</td>\n",
       "      <td>Bebidas</td>\n",
       "      <td>Cervejas e refrigerantes</td>\n",
       "    </tr>\n",
       "    <tr>\n",
       "      <th>3</th>\n",
       "      <td>ITUB3</td>\n",
       "      <td>ItauUnibanco</td>\n",
       "      <td>Brazil</td>\n",
       "      <td>Ação</td>\n",
       "      <td>Financeiro</td>\n",
       "      <td>Intermediários financeiros</td>\n",
       "      <td>Bancos</td>\n",
       "    </tr>\n",
       "    <tr>\n",
       "      <th>4</th>\n",
       "      <td>ITUB4</td>\n",
       "      <td>ItauUnibanco</td>\n",
       "      <td>Brazil</td>\n",
       "      <td>Ação</td>\n",
       "      <td>Financeiro</td>\n",
       "      <td>Intermediários financeiros</td>\n",
       "      <td>Bancos</td>\n",
       "    </tr>\n",
       "    <tr>\n",
       "      <th>...</th>\n",
       "      <td>...</td>\n",
       "      <td>...</td>\n",
       "      <td>...</td>\n",
       "      <td>...</td>\n",
       "      <td>...</td>\n",
       "      <td>...</td>\n",
       "      <td>...</td>\n",
       "    </tr>\n",
       "    <tr>\n",
       "      <th>418</th>\n",
       "      <td>EDGA11</td>\n",
       "      <td>FII Galeria</td>\n",
       "      <td>Brazil</td>\n",
       "      <td>FII</td>\n",
       "      <td>-</td>\n",
       "      <td>-</td>\n",
       "      <td>Lajes Corporativas</td>\n",
       "    </tr>\n",
       "    <tr>\n",
       "      <th>419</th>\n",
       "      <td>GRLV11</td>\n",
       "      <td>FII Louveira</td>\n",
       "      <td>Brazil</td>\n",
       "      <td>FII</td>\n",
       "      <td>-</td>\n",
       "      <td>-</td>\n",
       "      <td>Logística</td>\n",
       "    </tr>\n",
       "    <tr>\n",
       "      <th>420</th>\n",
       "      <td>MBRF11</td>\n",
       "      <td>FII Merc BR</td>\n",
       "      <td>Brazil</td>\n",
       "      <td>FII</td>\n",
       "      <td>-</td>\n",
       "      <td>-</td>\n",
       "      <td>Híbrido</td>\n",
       "    </tr>\n",
       "    <tr>\n",
       "      <th>421</th>\n",
       "      <td>CTXT11</td>\n",
       "      <td>FII C Textil</td>\n",
       "      <td>Brazil</td>\n",
       "      <td>FII</td>\n",
       "      <td>-</td>\n",
       "      <td>-</td>\n",
       "      <td>Lajes Corporativas</td>\n",
       "    </tr>\n",
       "    <tr>\n",
       "      <th>422</th>\n",
       "      <td>CARE11</td>\n",
       "      <td>FII Dea Care</td>\n",
       "      <td>Brazil</td>\n",
       "      <td>FII</td>\n",
       "      <td>-</td>\n",
       "      <td>-</td>\n",
       "      <td>Lajes Corporativas</td>\n",
       "    </tr>\n",
       "  </tbody>\n",
       "</table>\n",
       "<p>423 rows × 7 columns</p>\n",
       "</div>"
      ],
      "text/plain": [
       "     Ticker          Name Country  Type                          Sector  \\\n",
       "0     PETR3     Petrobras  Brazil  Ação  Petróleo gás e biocombustíveis   \n",
       "1     PETR4     Petrobras  Brazil  Ação  Petróleo gás e biocombustíveis   \n",
       "2     ABEV3     Ambev S/A  Brazil  Ação             Consumo não cíclico   \n",
       "3     ITUB3  ItauUnibanco  Brazil  Ação                      Financeiro   \n",
       "4     ITUB4  ItauUnibanco  Brazil  Ação                      Financeiro   \n",
       "..      ...           ...     ...   ...                             ...   \n",
       "418  EDGA11   FII Galeria  Brazil   FII                               -   \n",
       "419  GRLV11  FII Louveira  Brazil   FII                               -   \n",
       "420  MBRF11   FII Merc BR  Brazil   FII                               -   \n",
       "421  CTXT11  FII C Textil  Brazil   FII                               -   \n",
       "422  CARE11  FII Dea Care  Brazil   FII                               -   \n",
       "\n",
       "                         Sub Sector                           Segment  \n",
       "0    Petróleo gás e biocombustíveis  Exploração refino e distribuição  \n",
       "1    Petróleo gás e biocombustíveis  Exploração refino e distribuição  \n",
       "2                           Bebidas          Cervejas e refrigerantes  \n",
       "3        Intermediários financeiros                            Bancos  \n",
       "4        Intermediários financeiros                            Bancos  \n",
       "..                              ...                               ...  \n",
       "418                               -                Lajes Corporativas  \n",
       "419                               -                         Logística  \n",
       "420                               -                           Híbrido  \n",
       "421                               -                Lajes Corporativas  \n",
       "422                               -                Lajes Corporativas  \n",
       "\n",
       "[423 rows x 7 columns]"
      ]
     },
     "execution_count": 26,
     "metadata": {},
     "output_type": "execute_result"
    }
   ],
   "source": [
    "df_bovespa = pd.read_csv('assets/bovespa.csv', encoding='ISO-8859-1', delimiter=';')\n",
    "df_bovespa"
   ]
  },
  {
   "cell_type": "code",
   "execution_count": 55,
   "metadata": {},
   "outputs": [],
   "source": [
    "companySector = df_bovespa[df_bovespa['Ticker'] == tickerSymbol.replace('.SA', '')]['Sector'].values[0]\n",
    "companySubSector = df_bovespa[df_bovespa['Ticker'] == tickerSymbol.replace('.SA', '')]['Sub Sector'].values[0]\n",
    "companySegment = df_bovespa[df_bovespa['Ticker'] == tickerSymbol.replace('.SA', '')]['Segment'].values[0]"
   ]
  },
  {
   "cell_type": "code",
   "execution_count": 56,
   "metadata": {},
   "outputs": [
    {
     "data": {
      "text/html": [
       "<div>\n",
       "<style scoped>\n",
       "    .dataframe tbody tr th:only-of-type {\n",
       "        vertical-align: middle;\n",
       "    }\n",
       "\n",
       "    .dataframe tbody tr th {\n",
       "        vertical-align: top;\n",
       "    }\n",
       "\n",
       "    .dataframe thead th {\n",
       "        text-align: right;\n",
       "    }\n",
       "</style>\n",
       "<table border=\"1\" class=\"dataframe\">\n",
       "  <thead>\n",
       "    <tr style=\"text-align: right;\">\n",
       "      <th></th>\n",
       "      <th>Ticker</th>\n",
       "      <th>Name</th>\n",
       "      <th>Country</th>\n",
       "      <th>Type</th>\n",
       "      <th>Sector</th>\n",
       "      <th>Sub Sector</th>\n",
       "      <th>Segment</th>\n",
       "    </tr>\n",
       "  </thead>\n",
       "  <tbody>\n",
       "    <tr>\n",
       "      <th>2</th>\n",
       "      <td>ABEV3</td>\n",
       "      <td>Ambev S/A</td>\n",
       "      <td>Brazil</td>\n",
       "      <td>Ação</td>\n",
       "      <td>Consumo não cíclico</td>\n",
       "      <td>Bebidas</td>\n",
       "      <td>Cervejas e refrigerantes</td>\n",
       "    </tr>\n",
       "    <tr>\n",
       "      <th>20</th>\n",
       "      <td>JBSS3</td>\n",
       "      <td>JBS</td>\n",
       "      <td>Brazil</td>\n",
       "      <td>Ação</td>\n",
       "      <td>Consumo não cíclico</td>\n",
       "      <td>Alimentos processados</td>\n",
       "      <td>Carnes e derivados</td>\n",
       "    </tr>\n",
       "    <tr>\n",
       "      <th>21</th>\n",
       "      <td>NTCO3</td>\n",
       "      <td>Grupo Natura</td>\n",
       "      <td>Brazil</td>\n",
       "      <td>Ação</td>\n",
       "      <td>Consumo não cíclico</td>\n",
       "      <td>Produtos de uso pessoal e de limpeza</td>\n",
       "      <td>Produtos de uso pessoal</td>\n",
       "    </tr>\n",
       "    <tr>\n",
       "      <th>37</th>\n",
       "      <td>CRFB3</td>\n",
       "      <td>Carrefour BR</td>\n",
       "      <td>Brazil</td>\n",
       "      <td>Ação</td>\n",
       "      <td>Consumo não cíclico</td>\n",
       "      <td>Comércio e distribuição</td>\n",
       "      <td>Alimentos</td>\n",
       "    </tr>\n",
       "    <tr>\n",
       "      <th>61</th>\n",
       "      <td>ASAI3</td>\n",
       "      <td>Assai</td>\n",
       "      <td>Brazil</td>\n",
       "      <td>Ação</td>\n",
       "      <td>Consumo não cíclico</td>\n",
       "      <td>Comércio e distribuição</td>\n",
       "      <td>Alimentos</td>\n",
       "    </tr>\n",
       "    <tr>\n",
       "      <th>66</th>\n",
       "      <td>BRFS3</td>\n",
       "      <td>BRF SA</td>\n",
       "      <td>Brazil</td>\n",
       "      <td>Ação</td>\n",
       "      <td>Consumo não cíclico</td>\n",
       "      <td>Alimentos processados</td>\n",
       "      <td>Carnes e derivados</td>\n",
       "    </tr>\n",
       "    <tr>\n",
       "      <th>72</th>\n",
       "      <td>GMAT3</td>\n",
       "      <td>Grupo Mateus</td>\n",
       "      <td>Brazil</td>\n",
       "      <td>Ação</td>\n",
       "      <td>Consumo não cíclico</td>\n",
       "      <td>Comércio e distribuição</td>\n",
       "      <td>Alimentos</td>\n",
       "    </tr>\n",
       "    <tr>\n",
       "      <th>90</th>\n",
       "      <td>MRFG3</td>\n",
       "      <td>Marfrig</td>\n",
       "      <td>Brazil</td>\n",
       "      <td>Ação</td>\n",
       "      <td>Consumo não cíclico</td>\n",
       "      <td>Alimentos processados</td>\n",
       "      <td>Carnes e derivados</td>\n",
       "    </tr>\n",
       "    <tr>\n",
       "      <th>92</th>\n",
       "      <td>SMTO3</td>\n",
       "      <td>Sao Martinho</td>\n",
       "      <td>Brazil</td>\n",
       "      <td>Ação</td>\n",
       "      <td>Consumo não cíclico</td>\n",
       "      <td>Alimentos processados</td>\n",
       "      <td>Açúcar e álcool</td>\n",
       "    </tr>\n",
       "    <tr>\n",
       "      <th>96</th>\n",
       "      <td>PCAR3</td>\n",
       "      <td>P.Acucar-Cbd</td>\n",
       "      <td>Brazil</td>\n",
       "      <td>Ação</td>\n",
       "      <td>Consumo não cíclico</td>\n",
       "      <td>Comércio e distribuição</td>\n",
       "      <td>Alimentos</td>\n",
       "    </tr>\n",
       "    <tr>\n",
       "      <th>100</th>\n",
       "      <td>MDIA3</td>\n",
       "      <td>M.Diasbranco</td>\n",
       "      <td>Brazil</td>\n",
       "      <td>Ação</td>\n",
       "      <td>Consumo não cíclico</td>\n",
       "      <td>Alimentos processados</td>\n",
       "      <td>Alimentos diversos</td>\n",
       "    </tr>\n",
       "    <tr>\n",
       "      <th>102</th>\n",
       "      <td>SLCE3</td>\n",
       "      <td>SLC Agricola</td>\n",
       "      <td>Brazil</td>\n",
       "      <td>Ação</td>\n",
       "      <td>Consumo não cíclico</td>\n",
       "      <td>Agropecuária</td>\n",
       "      <td>Agricultura</td>\n",
       "    </tr>\n",
       "    <tr>\n",
       "      <th>148</th>\n",
       "      <td>BEEF3</td>\n",
       "      <td>Minerva</td>\n",
       "      <td>Brazil</td>\n",
       "      <td>Ação</td>\n",
       "      <td>Consumo não cíclico</td>\n",
       "      <td>Alimentos processados</td>\n",
       "      <td>Carnes e derivados</td>\n",
       "    </tr>\n",
       "    <tr>\n",
       "      <th>171</th>\n",
       "      <td>CAML3</td>\n",
       "      <td>Camil</td>\n",
       "      <td>Brazil</td>\n",
       "      <td>Ação</td>\n",
       "      <td>Consumo não cíclico</td>\n",
       "      <td>Alimentos processados</td>\n",
       "      <td>Alimentos diversos</td>\n",
       "    </tr>\n",
       "    <tr>\n",
       "      <th>175</th>\n",
       "      <td>AGRO3</td>\n",
       "      <td>Brasilagro</td>\n",
       "      <td>Brazil</td>\n",
       "      <td>Ação</td>\n",
       "      <td>Consumo não cíclico</td>\n",
       "      <td>Agropecuária</td>\n",
       "      <td>Agricultura</td>\n",
       "    </tr>\n",
       "    <tr>\n",
       "      <th>191</th>\n",
       "      <td>JALL3</td>\n",
       "      <td>Jallesmachad</td>\n",
       "      <td>Brazil</td>\n",
       "      <td>Ação</td>\n",
       "      <td>Consumo não cíclico</td>\n",
       "      <td>Alimentos processados</td>\n",
       "      <td>Açúcar e álcool</td>\n",
       "    </tr>\n",
       "    <tr>\n",
       "      <th>217</th>\n",
       "      <td>SOJA3</td>\n",
       "      <td>Boa Safra</td>\n",
       "      <td>Brazil</td>\n",
       "      <td>Ação</td>\n",
       "      <td>Consumo não cíclico</td>\n",
       "      <td>Agropecuária</td>\n",
       "      <td>Agricultura</td>\n",
       "    </tr>\n",
       "    <tr>\n",
       "      <th>258</th>\n",
       "      <td>BOBR4</td>\n",
       "      <td>Bombril</td>\n",
       "      <td>Brazil</td>\n",
       "      <td>Ação</td>\n",
       "      <td>Consumo não cíclico</td>\n",
       "      <td>Produtos de uso pessoal e de limpeza</td>\n",
       "      <td>Produtos de limpeza</td>\n",
       "    </tr>\n",
       "    <tr>\n",
       "      <th>301</th>\n",
       "      <td>MNPR3</td>\n",
       "      <td>Minupar</td>\n",
       "      <td>Brazil</td>\n",
       "      <td>Ação</td>\n",
       "      <td>Consumo não cíclico</td>\n",
       "      <td>Alimentos processados</td>\n",
       "      <td>Carnes e derivados</td>\n",
       "    </tr>\n",
       "    <tr>\n",
       "      <th>313</th>\n",
       "      <td>FRTA3</td>\n",
       "      <td>Pomifrutas</td>\n",
       "      <td>Brazil</td>\n",
       "      <td>Ação</td>\n",
       "      <td>Consumo não cíclico</td>\n",
       "      <td>Agropecuária</td>\n",
       "      <td>Agricultura</td>\n",
       "    </tr>\n",
       "  </tbody>\n",
       "</table>\n",
       "</div>"
      ],
      "text/plain": [
       "    Ticker          Name Country  Type               Sector  \\\n",
       "2    ABEV3     Ambev S/A  Brazil  Ação  Consumo não cíclico   \n",
       "20   JBSS3           JBS  Brazil  Ação  Consumo não cíclico   \n",
       "21   NTCO3  Grupo Natura  Brazil  Ação  Consumo não cíclico   \n",
       "37   CRFB3  Carrefour BR  Brazil  Ação  Consumo não cíclico   \n",
       "61   ASAI3         Assai  Brazil  Ação  Consumo não cíclico   \n",
       "66   BRFS3        BRF SA  Brazil  Ação  Consumo não cíclico   \n",
       "72   GMAT3  Grupo Mateus  Brazil  Ação  Consumo não cíclico   \n",
       "90   MRFG3       Marfrig  Brazil  Ação  Consumo não cíclico   \n",
       "92   SMTO3  Sao Martinho  Brazil  Ação  Consumo não cíclico   \n",
       "96   PCAR3  P.Acucar-Cbd  Brazil  Ação  Consumo não cíclico   \n",
       "100  MDIA3  M.Diasbranco  Brazil  Ação  Consumo não cíclico   \n",
       "102  SLCE3  SLC Agricola  Brazil  Ação  Consumo não cíclico   \n",
       "148  BEEF3       Minerva  Brazil  Ação  Consumo não cíclico   \n",
       "171  CAML3         Camil  Brazil  Ação  Consumo não cíclico   \n",
       "175  AGRO3    Brasilagro  Brazil  Ação  Consumo não cíclico   \n",
       "191  JALL3  Jallesmachad  Brazil  Ação  Consumo não cíclico   \n",
       "217  SOJA3     Boa Safra  Brazil  Ação  Consumo não cíclico   \n",
       "258  BOBR4       Bombril  Brazil  Ação  Consumo não cíclico   \n",
       "301  MNPR3       Minupar  Brazil  Ação  Consumo não cíclico   \n",
       "313  FRTA3    Pomifrutas  Brazil  Ação  Consumo não cíclico   \n",
       "\n",
       "                               Sub Sector                   Segment  \n",
       "2                                 Bebidas  Cervejas e refrigerantes  \n",
       "20                  Alimentos processados        Carnes e derivados  \n",
       "21   Produtos de uso pessoal e de limpeza   Produtos de uso pessoal  \n",
       "37                Comércio e distribuição                 Alimentos  \n",
       "61                Comércio e distribuição                 Alimentos  \n",
       "66                  Alimentos processados        Carnes e derivados  \n",
       "72                Comércio e distribuição                 Alimentos  \n",
       "90                  Alimentos processados        Carnes e derivados  \n",
       "92                  Alimentos processados           Açúcar e álcool  \n",
       "96                Comércio e distribuição                 Alimentos  \n",
       "100                 Alimentos processados        Alimentos diversos  \n",
       "102                          Agropecuária               Agricultura  \n",
       "148                 Alimentos processados        Carnes e derivados  \n",
       "171                 Alimentos processados        Alimentos diversos  \n",
       "175                          Agropecuária               Agricultura  \n",
       "191                 Alimentos processados           Açúcar e álcool  \n",
       "217                          Agropecuária               Agricultura  \n",
       "258  Produtos de uso pessoal e de limpeza       Produtos de limpeza  \n",
       "301                 Alimentos processados        Carnes e derivados  \n",
       "313                          Agropecuária               Agricultura  "
      ]
     },
     "execution_count": 56,
     "metadata": {},
     "output_type": "execute_result"
    }
   ],
   "source": [
    "df_bovespa[df_bovespa['Sector'] == companySector]"
   ]
  },
  {
   "cell_type": "code",
   "execution_count": 58,
   "metadata": {},
   "outputs": [
    {
     "data": {
      "text/html": [
       "<div>\n",
       "<style scoped>\n",
       "    .dataframe tbody tr th:only-of-type {\n",
       "        vertical-align: middle;\n",
       "    }\n",
       "\n",
       "    .dataframe tbody tr th {\n",
       "        vertical-align: top;\n",
       "    }\n",
       "\n",
       "    .dataframe thead th {\n",
       "        text-align: right;\n",
       "    }\n",
       "</style>\n",
       "<table border=\"1\" class=\"dataframe\">\n",
       "  <thead>\n",
       "    <tr style=\"text-align: right;\">\n",
       "      <th></th>\n",
       "      <th>Ticker</th>\n",
       "      <th>Name</th>\n",
       "      <th>Country</th>\n",
       "      <th>Type</th>\n",
       "      <th>Sector</th>\n",
       "      <th>Sub Sector</th>\n",
       "      <th>Segment</th>\n",
       "    </tr>\n",
       "  </thead>\n",
       "  <tbody>\n",
       "    <tr>\n",
       "      <th>20</th>\n",
       "      <td>JBSS3</td>\n",
       "      <td>JBS</td>\n",
       "      <td>Brazil</td>\n",
       "      <td>Ação</td>\n",
       "      <td>Consumo não cíclico</td>\n",
       "      <td>Alimentos processados</td>\n",
       "      <td>Carnes e derivados</td>\n",
       "    </tr>\n",
       "    <tr>\n",
       "      <th>66</th>\n",
       "      <td>BRFS3</td>\n",
       "      <td>BRF SA</td>\n",
       "      <td>Brazil</td>\n",
       "      <td>Ação</td>\n",
       "      <td>Consumo não cíclico</td>\n",
       "      <td>Alimentos processados</td>\n",
       "      <td>Carnes e derivados</td>\n",
       "    </tr>\n",
       "    <tr>\n",
       "      <th>90</th>\n",
       "      <td>MRFG3</td>\n",
       "      <td>Marfrig</td>\n",
       "      <td>Brazil</td>\n",
       "      <td>Ação</td>\n",
       "      <td>Consumo não cíclico</td>\n",
       "      <td>Alimentos processados</td>\n",
       "      <td>Carnes e derivados</td>\n",
       "    </tr>\n",
       "    <tr>\n",
       "      <th>92</th>\n",
       "      <td>SMTO3</td>\n",
       "      <td>Sao Martinho</td>\n",
       "      <td>Brazil</td>\n",
       "      <td>Ação</td>\n",
       "      <td>Consumo não cíclico</td>\n",
       "      <td>Alimentos processados</td>\n",
       "      <td>Açúcar e álcool</td>\n",
       "    </tr>\n",
       "    <tr>\n",
       "      <th>100</th>\n",
       "      <td>MDIA3</td>\n",
       "      <td>M.Diasbranco</td>\n",
       "      <td>Brazil</td>\n",
       "      <td>Ação</td>\n",
       "      <td>Consumo não cíclico</td>\n",
       "      <td>Alimentos processados</td>\n",
       "      <td>Alimentos diversos</td>\n",
       "    </tr>\n",
       "    <tr>\n",
       "      <th>148</th>\n",
       "      <td>BEEF3</td>\n",
       "      <td>Minerva</td>\n",
       "      <td>Brazil</td>\n",
       "      <td>Ação</td>\n",
       "      <td>Consumo não cíclico</td>\n",
       "      <td>Alimentos processados</td>\n",
       "      <td>Carnes e derivados</td>\n",
       "    </tr>\n",
       "    <tr>\n",
       "      <th>171</th>\n",
       "      <td>CAML3</td>\n",
       "      <td>Camil</td>\n",
       "      <td>Brazil</td>\n",
       "      <td>Ação</td>\n",
       "      <td>Consumo não cíclico</td>\n",
       "      <td>Alimentos processados</td>\n",
       "      <td>Alimentos diversos</td>\n",
       "    </tr>\n",
       "    <tr>\n",
       "      <th>191</th>\n",
       "      <td>JALL3</td>\n",
       "      <td>Jallesmachad</td>\n",
       "      <td>Brazil</td>\n",
       "      <td>Ação</td>\n",
       "      <td>Consumo não cíclico</td>\n",
       "      <td>Alimentos processados</td>\n",
       "      <td>Açúcar e álcool</td>\n",
       "    </tr>\n",
       "    <tr>\n",
       "      <th>301</th>\n",
       "      <td>MNPR3</td>\n",
       "      <td>Minupar</td>\n",
       "      <td>Brazil</td>\n",
       "      <td>Ação</td>\n",
       "      <td>Consumo não cíclico</td>\n",
       "      <td>Alimentos processados</td>\n",
       "      <td>Carnes e derivados</td>\n",
       "    </tr>\n",
       "  </tbody>\n",
       "</table>\n",
       "</div>"
      ],
      "text/plain": [
       "    Ticker          Name Country  Type               Sector  \\\n",
       "20   JBSS3           JBS  Brazil  Ação  Consumo não cíclico   \n",
       "66   BRFS3        BRF SA  Brazil  Ação  Consumo não cíclico   \n",
       "90   MRFG3       Marfrig  Brazil  Ação  Consumo não cíclico   \n",
       "92   SMTO3  Sao Martinho  Brazil  Ação  Consumo não cíclico   \n",
       "100  MDIA3  M.Diasbranco  Brazil  Ação  Consumo não cíclico   \n",
       "148  BEEF3       Minerva  Brazil  Ação  Consumo não cíclico   \n",
       "171  CAML3         Camil  Brazil  Ação  Consumo não cíclico   \n",
       "191  JALL3  Jallesmachad  Brazil  Ação  Consumo não cíclico   \n",
       "301  MNPR3       Minupar  Brazil  Ação  Consumo não cíclico   \n",
       "\n",
       "                Sub Sector             Segment  \n",
       "20   Alimentos processados  Carnes e derivados  \n",
       "66   Alimentos processados  Carnes e derivados  \n",
       "90   Alimentos processados  Carnes e derivados  \n",
       "92   Alimentos processados     Açúcar e álcool  \n",
       "100  Alimentos processados  Alimentos diversos  \n",
       "148  Alimentos processados  Carnes e derivados  \n",
       "171  Alimentos processados  Alimentos diversos  \n",
       "191  Alimentos processados     Açúcar e álcool  \n",
       "301  Alimentos processados  Carnes e derivados  "
      ]
     },
     "execution_count": 58,
     "metadata": {},
     "output_type": "execute_result"
    }
   ],
   "source": [
    "df_bovespa[df_bovespa['Sub Sector'] == companySubSector]"
   ]
  },
  {
   "cell_type": "code",
   "execution_count": 60,
   "metadata": {},
   "outputs": [
    {
     "data": {
      "text/html": [
       "<div>\n",
       "<style scoped>\n",
       "    .dataframe tbody tr th:only-of-type {\n",
       "        vertical-align: middle;\n",
       "    }\n",
       "\n",
       "    .dataframe tbody tr th {\n",
       "        vertical-align: top;\n",
       "    }\n",
       "\n",
       "    .dataframe thead th {\n",
       "        text-align: right;\n",
       "    }\n",
       "</style>\n",
       "<table border=\"1\" class=\"dataframe\">\n",
       "  <thead>\n",
       "    <tr style=\"text-align: right;\">\n",
       "      <th></th>\n",
       "      <th>Ticker</th>\n",
       "      <th>Name</th>\n",
       "      <th>Country</th>\n",
       "      <th>Type</th>\n",
       "      <th>Sector</th>\n",
       "      <th>Sub Sector</th>\n",
       "      <th>Segment</th>\n",
       "    </tr>\n",
       "  </thead>\n",
       "  <tbody>\n",
       "    <tr>\n",
       "      <th>100</th>\n",
       "      <td>MDIA3</td>\n",
       "      <td>M.Diasbranco</td>\n",
       "      <td>Brazil</td>\n",
       "      <td>Ação</td>\n",
       "      <td>Consumo não cíclico</td>\n",
       "      <td>Alimentos processados</td>\n",
       "      <td>Alimentos diversos</td>\n",
       "    </tr>\n",
       "    <tr>\n",
       "      <th>171</th>\n",
       "      <td>CAML3</td>\n",
       "      <td>Camil</td>\n",
       "      <td>Brazil</td>\n",
       "      <td>Ação</td>\n",
       "      <td>Consumo não cíclico</td>\n",
       "      <td>Alimentos processados</td>\n",
       "      <td>Alimentos diversos</td>\n",
       "    </tr>\n",
       "  </tbody>\n",
       "</table>\n",
       "</div>"
      ],
      "text/plain": [
       "    Ticker          Name Country  Type               Sector  \\\n",
       "100  MDIA3  M.Diasbranco  Brazil  Ação  Consumo não cíclico   \n",
       "171  CAML3         Camil  Brazil  Ação  Consumo não cíclico   \n",
       "\n",
       "                Sub Sector             Segment  \n",
       "100  Alimentos processados  Alimentos diversos  \n",
       "171  Alimentos processados  Alimentos diversos  "
      ]
     },
     "execution_count": 60,
     "metadata": {},
     "output_type": "execute_result"
    }
   ],
   "source": [
    "df_bovespa[df_bovespa['Segment'] == companySegment]"
   ]
  },
  {
   "cell_type": "code",
   "execution_count": null,
   "metadata": {},
   "outputs": [],
   "source": []
  }
 ],
 "metadata": {
  "kernelspec": {
   "display_name": "Python 3",
   "language": "python",
   "name": "python3"
  },
  "language_info": {
   "codemirror_mode": {
    "name": "ipython",
    "version": 3
   },
   "file_extension": ".py",
   "mimetype": "text/x-python",
   "name": "python",
   "nbconvert_exporter": "python",
   "pygments_lexer": "ipython3",
   "version": "3.8.5"
  }
 },
 "nbformat": 4,
 "nbformat_minor": 4
}
